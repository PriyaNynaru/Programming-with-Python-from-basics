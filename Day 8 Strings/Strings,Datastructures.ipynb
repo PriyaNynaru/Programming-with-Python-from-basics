{
 "cells": [
  {
   "cell_type": "markdown",
   "metadata": {},
   "source": [
    "### Day 8\n",
    "#### strings\n",
    "- a string is a group of characters or sequence of a char\n",
    "- one of datatypes"
   ]
  },
  {
   "cell_type": "code",
   "execution_count": 1,
   "metadata": {},
   "outputs": [
    {
     "name": "stdout",
     "output_type": "stream",
     "text": [
      "python <class 'str'>\n"
     ]
    }
   ],
   "source": [
    "s='python'\n",
    "print(s,type(s))"
   ]
  },
  {
   "cell_type": "code",
   "execution_count": 2,
   "metadata": {},
   "outputs": [
    {
     "name": "stdout",
     "output_type": "stream",
     "text": [
      "python <class 'str'>\n"
     ]
    }
   ],
   "source": [
    "s=\"python\"\n",
    "print(s,type(s))"
   ]
  },
  {
   "cell_type": "code",
   "execution_count": 3,
   "metadata": {},
   "outputs": [
    {
     "name": "stdout",
     "output_type": "stream",
     "text": [
      "python <class 'str'>\n"
     ]
    }
   ],
   "source": [
    "s=\"\"\"python\"\"\"\n",
    "print(s,type(s))"
   ]
  },
  {
   "cell_type": "code",
   "execution_count": 4,
   "metadata": {},
   "outputs": [
    {
     "name": "stdout",
     "output_type": "stream",
     "text": [
      "12345 <class 'str'>\n"
     ]
    }
   ],
   "source": [
    "s=\"12345\"\n",
    "print(s,type(s))"
   ]
  },
  {
   "cell_type": "code",
   "execution_count": 5,
   "metadata": {},
   "outputs": [
    {
     "name": "stdout",
     "output_type": "stream",
     "text": [
      "12345priya <class 'str'>\n",
      "123451234512345\n"
     ]
    }
   ],
   "source": [
    "s1=\"12345\"\n",
    "s2=\"priya\"\n",
    "print(s1+s2,type(s))\n",
    "print(s1*3) #(* for repetaton)"
   ]
  },
  {
   "cell_type": "markdown",
   "metadata": {},
   "source": [
    "#### Indexing in python\n",
    "- Retrives values by using indexing\n",
    "- Indexing is two types\n",
    "    - Positive indexing\n",
    "        - starts from left of the string and it hold zero\n",
    "        - 0,1,2,3....\n",
    "    - Negative indexing\n",
    "        - starts from right of the string\n",
    "        - 1,-2.-3...\n",
    "        - string_variable[position]\n",
    "#### String slicing\n",
    "- string_variable[start:end+1:step+1]\n",
    "    - starting->included\n",
    "    - ending->excluded\n"
   ]
  },
  {
   "cell_type": "code",
   "execution_count": 6,
   "metadata": {},
   "outputs": [
    {
     "name": "stdout",
     "output_type": "stream",
     "text": [
      "p\n",
      "o\n",
      "python\n"
     ]
    }
   ],
   "source": [
    "s=\"python\"\n",
    "print(s[0])\n",
    "print(s[4])\n",
    "## print(s[10])\n",
    "## s[4]=\"u\" ## string is imutable so we can't change once assigned\n",
    "print(s)"
   ]
  },
  {
   "cell_type": "code",
   "execution_count": 7,
   "metadata": {},
   "outputs": [
    {
     "name": "stdout",
     "output_type": "stream",
     "text": [
      "e n i l n o\n"
     ]
    }
   ],
   "source": [
    "s=\"online\"\n",
    "print(s[-1],s[-2],s[-3],s[-4],s[-5],s[-6])\n",
    "#print(s[-7])"
   ]
  },
  {
   "cell_type": "code",
   "execution_count": 11,
   "metadata": {},
   "outputs": [
    {
     "name": "stdout",
     "output_type": "stream",
     "text": [
      "   \n"
     ]
    }
   ],
   "source": [
    "s7=\"python workshop\"\n",
    "print(s7[6],s7[-9])"
   ]
  },
  {
   "cell_type": "code",
   "execution_count": 12,
   "metadata": {},
   "outputs": [
    {
     "name": "stdout",
     "output_type": "stream",
     "text": [
      "thon workshop\n",
      "thon work\n",
      "pytho\n",
      "python workshop\n",
      "python\n",
      "ph\n",
      "wko\n",
      "\n",
      "oi\n"
     ]
    }
   ],
   "source": [
    "print(s7[2:])\n",
    "print(s7[2:11])\n",
    "print(s7[:5])\n",
    "print(s7[:])\n",
    "print(s7[0:6:1])\n",
    "print(s7[0:6:3])\n",
    "print(s7[7:16:3])#to get wko\n",
    "print(s[7::3])\n",
    "print(s[::3])"
   ]
  },
  {
   "cell_type": "code",
   "execution_count": 23,
   "metadata": {},
   "outputs": [
    {
     "name": "stdout",
     "output_type": "stream",
     "text": [
      "n works\n",
      "thon work\n",
      "\n",
      "python worksho\n",
      "\n",
      "\n",
      "pohskrow nohtyp\n",
      "phko otp\n",
      "pohskrow nohtyp\n",
      "worksho\n",
      "nos\n",
      "python workshop\n"
     ]
    }
   ],
   "source": [
    "print(s7[-10:-3])\n",
    "print(s7[2:-4])\n",
    "print(s7[-1:4])\n",
    "print(s7[:-1])\n",
    "print(s7[:0]) #doesn't support\n",
    "print(s7[-2:-5])\n",
    "print(s7[::-1]) #reversing the string\n",
    "print(s7[::-2]) #reverse string with difference 1\n",
    "print(s7[-1:-16:-1]) #reversing using negative indexing\n",
    "print(s7[-8:-1])\n",
    "print(s7[-10:-3:3])\n",
    "print(s7[-1::]) #in negative indexing use with highest number"
   ]
  },
  {
   "cell_type": "code",
   "execution_count": null,
   "metadata": {},
   "outputs": [],
   "source": [
    "## min,max,sum,sorted,len"
   ]
  },
  {
   "cell_type": "code",
   "execution_count": 27,
   "metadata": {},
   "outputs": [
    {
     "name": "stdout",
     "output_type": "stream",
     "text": [
      "y\n",
      "h\n",
      "['h', 'n', 'o', 'p', 't', 'y']\n",
      "6\n"
     ]
    },
    {
     "ename": "TypeError",
     "evalue": "unsupported operand type(s) for +: 'int' and 'str'",
     "output_type": "error",
     "traceback": [
      "\u001b[1;31m---------------------------------------------------------------------------\u001b[0m",
      "\u001b[1;31mTypeError\u001b[0m                                 Traceback (most recent call last)",
      "\u001b[1;32m<ipython-input-27-186cfaad1148>\u001b[0m in \u001b[0;36m<module>\u001b[1;34m\u001b[0m\n\u001b[0;32m      4\u001b[0m \u001b[0mprint\u001b[0m\u001b[1;33m(\u001b[0m\u001b[0msorted\u001b[0m\u001b[1;33m(\u001b[0m\u001b[0mc\u001b[0m\u001b[1;33m)\u001b[0m\u001b[1;33m)\u001b[0m\u001b[1;33m\u001b[0m\u001b[1;33m\u001b[0m\u001b[0m\n\u001b[0;32m      5\u001b[0m \u001b[0mprint\u001b[0m\u001b[1;33m(\u001b[0m\u001b[0mlen\u001b[0m\u001b[1;33m(\u001b[0m\u001b[0mc\u001b[0m\u001b[1;33m)\u001b[0m\u001b[1;33m)\u001b[0m\u001b[1;33m\u001b[0m\u001b[1;33m\u001b[0m\u001b[0m\n\u001b[1;32m----> 6\u001b[1;33m \u001b[0mprint\u001b[0m\u001b[1;33m(\u001b[0m\u001b[0msum\u001b[0m\u001b[1;33m(\u001b[0m\u001b[0mc\u001b[0m\u001b[1;33m)\u001b[0m\u001b[1;33m)\u001b[0m\u001b[1;33m\u001b[0m\u001b[1;33m\u001b[0m\u001b[0m\n\u001b[0m",
      "\u001b[1;31mTypeError\u001b[0m: unsupported operand type(s) for +: 'int' and 'str'"
     ]
    }
   ],
   "source": [
    "c=\"python\"\n",
    "print(max(c))\n",
    "print(min(c))\n",
    "print(sorted(c))\n",
    "print(len(c))\n",
    "##print(sum(c))"
   ]
  },
  {
   "cell_type": "code",
   "execution_count": 33,
   "metadata": {},
   "outputs": [
    {
     "ename": "TypeError",
     "evalue": "'int' object is not iterable",
     "output_type": "error",
     "traceback": [
      "\u001b[1;31m---------------------------------------------------------------------------\u001b[0m",
      "\u001b[1;31mTypeError\u001b[0m                                 Traceback (most recent call last)",
      "\u001b[1;32m<ipython-input-33-607bcb6f7c3b>\u001b[0m in \u001b[0;36m<module>\u001b[1;34m\u001b[0m\n\u001b[0;32m      1\u001b[0m \u001b[0mc\u001b[0m\u001b[1;33m=\u001b[0m\u001b[0mint\u001b[0m\u001b[1;33m(\u001b[0m\u001b[1;36m12345\u001b[0m\u001b[1;33m)\u001b[0m\u001b[1;33m\u001b[0m\u001b[1;33m\u001b[0m\u001b[0m\n\u001b[1;32m----> 2\u001b[1;33m \u001b[0mprint\u001b[0m\u001b[1;33m(\u001b[0m\u001b[0msum\u001b[0m\u001b[1;33m(\u001b[0m\u001b[0mc\u001b[0m\u001b[1;33m)\u001b[0m\u001b[1;33m)\u001b[0m\u001b[1;33m\u001b[0m\u001b[1;33m\u001b[0m\u001b[0m\n\u001b[0m",
      "\u001b[1;31mTypeError\u001b[0m: 'int' object is not iterable"
     ]
    }
   ],
   "source": [
    "c=int(12345)\n",
    "print(sum(c))"
   ]
  },
  {
   "cell_type": "markdown",
   "metadata": {},
   "source": [
    "#### String method"
   ]
  },
  {
   "cell_type": "code",
   "execution_count": 42,
   "metadata": {},
   "outputs": [
    {
     "name": "stdout",
     "output_type": "stream",
     "text": [
      "['__add__', '__class__', '__contains__', '__delattr__', '__dir__', '__doc__', '__eq__', '__format__', '__ge__', '__getattribute__', '__getitem__', '__getnewargs__', '__gt__', '__hash__', '__init__', '__init_subclass__', '__iter__', '__le__', '__len__', '__lt__', '__mod__', '__mul__', '__ne__', '__new__', '__reduce__', '__reduce_ex__', '__repr__', '__rmod__', '__rmul__', '__setattr__', '__sizeof__', '__str__', '__subclasshook__', 'capitalize', 'casefold', 'center', 'count', 'encode', 'endswith', 'expandtabs', 'find', 'format', 'format_map', 'index', 'isalnum', 'isalpha', 'isascii', 'isdecimal', 'isdigit', 'isidentifier', 'islower', 'isnumeric', 'isprintable', 'isspace', 'istitle', 'isupper', 'join', 'ljust', 'lower', 'lstrip', 'maketrans', 'partition', 'replace', 'rfind', 'rindex', 'rjust', 'rpartition', 'rsplit', 'rstrip', 'split', 'splitlines', 'startswith', 'strip', 'swapcase', 'title', 'translate', 'upper', 'zfill']\t"
     ]
    }
   ],
   "source": [
    "print(dir(str),end=\"\\t\")"
   ]
  },
  {
   "cell_type": "markdown",
   "metadata": {},
   "source": [
    "- syn: string_variable.method()"
   ]
  },
  {
   "cell_type": "markdown",
   "metadata": {},
   "source": [
    "##### str.capitalize()\n",
    "1. It converts first letter of a string into capital"
   ]
  },
  {
   "cell_type": "code",
   "execution_count": 45,
   "metadata": {},
   "outputs": [
    {
     "name": "stdout",
     "output_type": "stream",
     "text": [
      "Python programming\n"
     ]
    }
   ],
   "source": [
    "w=\"python programming\"\n",
    "print(w.capitalize())"
   ]
  },
  {
   "cell_type": "markdown",
   "metadata": {},
   "source": [
    "##### casefold()\n",
    "1. The casefold() method returns a string where all the characters are lower case."
   ]
  },
  {
   "cell_type": "code",
   "execution_count": null,
   "metadata": {},
   "outputs": [],
   "source": [
    "w=\"python programMINGβ\"\n",
    "print(w.casefold()) #It displays uppercase into lower case"
   ]
  },
  {
   "cell_type": "code",
   "execution_count": 1,
   "metadata": {},
   "outputs": [
    {
     "name": "stdout",
     "output_type": "stream",
     "text": [
      "python programmingβ\n",
      "PYTHON PROGRAMMINGΒ\n"
     ]
    }
   ],
   "source": [
    "w=\"python programmingβ\"\n",
    "print(w.lower())\n",
    "print(w.upper())"
   ]
  },
  {
   "cell_type": "markdown",
   "metadata": {},
   "source": [
    "##### str.center()\n",
    "1. The center() method will center align the string, using a specified character (space is default) as the fill character.\n",
    "2. syntax: string.center(length, character)\n",
    "3. length -> Required. The length of the returned string\n",
    "4. character -> Optional. The character to fill the missing space on each side. Default is \" \" (space)"
   ]
  },
  {
   "cell_type": "code",
   "execution_count": 5,
   "metadata": {},
   "outputs": [
    {
     "data": {
      "text/plain": [
       "'$$python$$'"
      ]
     },
     "execution_count": 5,
     "metadata": {},
     "output_type": "execute_result"
    }
   ],
   "source": [
    "d=\"python\"\n",
    "d.center(10,'$')"
   ]
  },
  {
   "cell_type": "markdown",
   "metadata": {},
   "source": [
    "##### str.count()\n",
    "1. The count() method returns the number of times a specified value appears in the string.\n",
    "2. syntax: string.count(value, start, end)\n",
    "3. value -> Required. A String. The string to value to search for\n",
    "4. start -> Optional. An Integer. The position to start the search. Default is 0\n",
    "5. end -> Optional. An Integer. The position to end the search. Default is the end of the string"
   ]
  },
  {
   "cell_type": "code",
   "execution_count": 56,
   "metadata": {},
   "outputs": [
    {
     "data": {
      "text/plain": [
       "3"
      ]
     },
     "execution_count": 56,
     "metadata": {},
     "output_type": "execute_result"
    }
   ],
   "source": [
    "w=\"python training\"\n",
    "w.count('n')"
   ]
  },
  {
   "cell_type": "markdown",
   "metadata": {},
   "source": [
    "##### str.encode\n",
    "1. The encode() method encodes the string, using the specified encoding. If no encoding is specified, UTF-8 will be used.\n",
    "2. syntax: string.encode(encoding=encoding, errors=errors)\n",
    "3. encoding\tOptional. A String specifying the encoding to use. Default is UTF-8\n",
    "4. errors\tOptional. A String specifying the error method. Legal values are:\n",
    "- 'backslashreplace'\t- uses a backslash instead of the character that could not be encoded\n",
    "- 'ignore'\t            - ignoresthe characters that cannot be encoded\n",
    "- 'namereplace'\t        - replaces the character with a text explaining the character\n",
    "- 'strict'\t            - Default, raises an error on failure\n",
    "- 'replace'\t            - replaces the character with a questionmark\n",
    "- 'xmlcharrefreplace'\t- replaces the character with an xml character"
   ]
  },
  {
   "cell_type": "code",
   "execution_count": 58,
   "metadata": {},
   "outputs": [
    {
     "name": "stdout",
     "output_type": "stream",
     "text": [
      "b'iam p\\xc5\\x97iya'\n"
     ]
    }
   ],
   "source": [
    "txt=\"iam pŗiya\"\n",
    "x=txt.encode()\n",
    "print(x)"
   ]
  },
  {
   "cell_type": "code",
   "execution_count": 12,
   "metadata": {},
   "outputs": [
    {
     "name": "stdout",
     "output_type": "stream",
     "text": [
      "b'My name is St\\\\xe5le'\n",
      "b'My name is Stle'\n",
      "b'My name is St\\\\N{LATIN SMALL LETTER A WITH RING ABOVE}le'\n",
      "b'My name is St?le'\n",
      "b'My name is St&#229;le'\n"
     ]
    }
   ],
   "source": [
    "txt = \"My name is Ståle\"\n",
    "print(txt.encode(encoding=\"ascii\",errors=\"backslashreplace\"))\n",
    "print(txt.encode(encoding=\"ascii\",errors=\"ignore\"))\n",
    "print(txt.encode(encoding=\"ascii\",errors=\"namereplace\"))\n",
    "print(txt.encode(encoding=\"ascii\",errors=\"replace\"))\n",
    "print(txt.encode(encoding=\"ascii\",errors=\"xmlcharrefreplace\"))"
   ]
  },
  {
   "cell_type": "markdown",
   "metadata": {},
   "source": [
    "##### str.translate()\n",
    "1. The translate() method returns a string where some specified characters are replaced with the character described in a dictionary, or in a mapping table.\n",
    "2. Use the maketrans() method to create a mapping table.\n",
    "3. If a character is not specified in the dictionary/table, the character will not be replaced.\n",
    "4. If you use a dictionary, you must use ascii codes instead of characters.\n",
    "- syntax: string.translate(table)\n",
    "1. table -> Required. Either a dictionary, or a mapping table describing how to perform the replace"
   ]
  },
  {
   "cell_type": "code",
   "execution_count": 61,
   "metadata": {},
   "outputs": [
    {
     "name": "stdout",
     "output_type": "stream",
     "text": [
      "pello everyone\n"
     ]
    }
   ],
   "source": [
    "txt=\"hello everyone\"\n",
    "a=txt.maketrans(\"h\",\"p\")\n",
    "print(txt.translate(a))"
   ]
  },
  {
   "cell_type": "markdown",
   "metadata": {},
   "source": [
    "- use dynamic string\n",
    "- check the given string is a palindrome or not"
   ]
  },
  {
   "cell_type": "code",
   "execution_count": 11,
   "metadata": {},
   "outputs": [
    {
     "name": "stdout",
     "output_type": "stream",
     "text": [
      "126625\n",
      "Not a Palindrome\n"
     ]
    }
   ],
   "source": [
    "def palindrome(s):\n",
    "    if s==s[::-1]:\n",
    "        print(\"Palindrome\")\n",
    "    else:\n",
    "        print(\"Not a Palindrome\")\n",
    "palindrome(input())"
   ]
  }
 ],
 "metadata": {
  "kernelspec": {
   "display_name": "Python 3",
   "language": "python",
   "name": "python3"
  },
  "language_info": {
   "codemirror_mode": {
    "name": "ipython",
    "version": 3
   },
   "file_extension": ".py",
   "mimetype": "text/x-python",
   "name": "python",
   "nbconvert_exporter": "python",
   "pygments_lexer": "ipython3",
   "version": "3.8.5"
  }
 },
 "nbformat": 4,
 "nbformat_minor": 4
}
