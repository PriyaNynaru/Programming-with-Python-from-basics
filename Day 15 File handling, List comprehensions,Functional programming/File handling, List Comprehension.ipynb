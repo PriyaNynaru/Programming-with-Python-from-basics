{
 "cells": [
  {
   "cell_type": "markdown",
   "metadata": {},
   "source": [
    "### Day 15\n",
    "    1. continue File handling\n",
    "    2. List Comprehensions\n",
    "    3. Functional programming(map(),filter(),reduce(),lambda)\n"
   ]
  },
  {
   "cell_type": "markdown",
   "metadata": {},
   "source": [
    "#### File Operations(open,read,write,append,close)"
   ]
  },
  {
   "cell_type": "code",
   "execution_count": 34,
   "metadata": {},
   "outputs": [
    {
     "data": {
      "text/plain": [
       "'This is a new line'"
      ]
     },
     "execution_count": 34,
     "metadata": {},
     "output_type": "execute_result"
    }
   ],
   "source": [
    "f=open(\"new.txt\",\"w\")\n",
    "f.write(\"Today is wednesday\")\n",
    "f=open(\"new.txt\",\"a\")  ##append attaches data at the end of data\n",
    "f.write(\"Python is Awesome\")\n",
    "f=open(\"new.txt\",\"r\")\n",
    "f.read()\n",
    "f=open(\"new.txt\",\"w\")  ## write function clears previous data and write\n",
    "f.write(\"This is a new line\")\n",
    "f=open(\"new.txt\",\"r\")\n",
    "f.read()"
   ]
  },
  {
   "cell_type": "markdown",
   "metadata": {},
   "source": [
    "#### Close operation\n",
    "    we have different ways of closing the file"
   ]
  },
  {
   "cell_type": "code",
   "execution_count": 11,
   "metadata": {},
   "outputs": [],
   "source": [
    "# way-1\n",
    "f=open(\"new.txt\",\"r\")\n",
    "f.read()\n",
    "f.close()"
   ]
  },
  {
   "cell_type": "code",
   "execution_count": 13,
   "metadata": {},
   "outputs": [
    {
     "name": "stdout",
     "output_type": "stream",
     "text": [
      "new.txt\n",
      "r\n",
      "True\n",
      "cp1252\n"
     ]
    }
   ],
   "source": [
    "# How to know the file object attributes (fileobject.attribute_name)\n",
    "print(f.name)\n",
    "print(f.mode)\n",
    "print(f.closed)\n",
    "print(f.encoding)"
   ]
  },
  {
   "cell_type": "code",
   "execution_count": 16,
   "metadata": {},
   "outputs": [
    {
     "ename": "UnsupportedOperation",
     "evalue": "not readable",
     "output_type": "error",
     "traceback": [
      "\u001b[1;31m---------------------------------------------------------------------------\u001b[0m",
      "\u001b[1;31mUnsupportedOperation\u001b[0m                      Traceback (most recent call last)",
      "\u001b[1;32m<ipython-input-16-75067b9768f0>\u001b[0m in \u001b[0;36m<module>\u001b[1;34m\u001b[0m\n\u001b[0;32m      2\u001b[0m \u001b[1;32mtry\u001b[0m\u001b[1;33m:\u001b[0m\u001b[1;33m\u001b[0m\u001b[1;33m\u001b[0m\u001b[0m\n\u001b[0;32m      3\u001b[0m     \u001b[0mf\u001b[0m\u001b[1;33m=\u001b[0m\u001b[0mopen\u001b[0m\u001b[1;33m(\u001b[0m\u001b[1;34m'new.txt'\u001b[0m\u001b[1;33m,\u001b[0m\u001b[1;34m'a'\u001b[0m\u001b[1;33m)\u001b[0m\u001b[1;33m\u001b[0m\u001b[1;33m\u001b[0m\u001b[0m\n\u001b[1;32m----> 4\u001b[1;33m     \u001b[0mf\u001b[0m\u001b[1;33m.\u001b[0m\u001b[0mread\u001b[0m\u001b[1;33m(\u001b[0m\u001b[1;33m)\u001b[0m\u001b[1;33m\u001b[0m\u001b[1;33m\u001b[0m\u001b[0m\n\u001b[0m\u001b[0;32m      5\u001b[0m \u001b[1;32mfinally\u001b[0m\u001b[1;33m:\u001b[0m\u001b[1;33m\u001b[0m\u001b[1;33m\u001b[0m\u001b[0m\n\u001b[0;32m      6\u001b[0m     \u001b[0mf\u001b[0m\u001b[1;33m.\u001b[0m\u001b[0mclose\u001b[0m\u001b[1;33m(\u001b[0m\u001b[1;33m)\u001b[0m\u001b[1;33m\u001b[0m\u001b[1;33m\u001b[0m\u001b[0m\n",
      "\u001b[1;31mUnsupportedOperation\u001b[0m: not readable"
     ]
    }
   ],
   "source": [
    "# way-2\n",
    "try:\n",
    "    f=open('new.txt','a')\n",
    "    f.read()\n",
    "finally:\n",
    "    f.close()"
   ]
  },
  {
   "cell_type": "code",
   "execution_count": 18,
   "metadata": {},
   "outputs": [
    {
     "data": {
      "text/plain": [
       "True"
      ]
     },
     "execution_count": 18,
     "metadata": {},
     "output_type": "execute_result"
    }
   ],
   "source": [
    "f.closed"
   ]
  },
  {
   "cell_type": "code",
   "execution_count": 24,
   "metadata": {},
   "outputs": [
    {
     "name": "stdout",
     "output_type": "stream",
     "text": [
      "This is a new line\n"
     ]
    },
    {
     "data": {
      "text/plain": [
       "True"
      ]
     },
     "execution_count": 24,
     "metadata": {},
     "output_type": "execute_result"
    }
   ],
   "source": [
    "# way-3 to close the file(simply open the file with \"with\" keyword)\n",
    "with open(\"new.txt\",\"r\") as f:   ##with automatically closes the file\n",
    "    print(f.read())\n",
    "f.closed"
   ]
  },
  {
   "cell_type": "code",
   "execution_count": 26,
   "metadata": {},
   "outputs": [
    {
     "name": "stdout",
     "output_type": "stream",
     "text": [
      "36\n"
     ]
    }
   ],
   "source": [
    "## Files using with functions:\n",
    "#write data into file:\n",
    "def writetofile(filename):\n",
    "    with open(filename,\"w\") as f:\n",
    "        data=f.write(\"Hello Krishna priya...How you doing?\")\n",
    "writetofile(\"hello.txt\")"
   ]
  },
  {
   "cell_type": "code",
   "execution_count": 28,
   "metadata": {},
   "outputs": [
    {
     "name": "stdout",
     "output_type": "stream",
     "text": [
      "enter ypur filename:hello.txt\n"
     ]
    }
   ],
   "source": [
    "def writetofile(filename):\n",
    "    with open(filename,\"w\") as f:\n",
    "        data=f.write(\"Hello Krishna priya...How you doing?\")\n",
    "writetofile(input(\"enter ypur filename:\"))"
   ]
  },
  {
   "cell_type": "code",
   "execution_count": 31,
   "metadata": {},
   "outputs": [
    {
     "name": "stdout",
     "output_type": "stream",
     "text": [
      "enter your filename: new.txt\n",
      "This is a new line\n"
     ]
    }
   ],
   "source": [
    "#read from file\n",
    "def writetofile(filename):\n",
    "    with open(filename,\"r\") as f:\n",
    "        print(f.read())\n",
    "writetofile(input(\"enter your filename: \"))"
   ]
  },
  {
   "cell_type": "code",
   "execution_count": 33,
   "metadata": {},
   "outputs": [
    {
     "name": "stdout",
     "output_type": "stream",
     "text": [
      "enter your filename: hello.txt\n",
      "Hello Krishna priya...How you doing?...bye!!!\n"
     ]
    }
   ],
   "source": [
    "def writetofile(filename):\n",
    "    with open(filename,\"w\") as f:\n",
    "        data=f.write(\"Hello Krishna priya...How you doing?...bye!!!\")\n",
    "    with open(filename,\"r\") as f:\n",
    "        print(f.read())\n",
    "writetofile(input(\"enter your filename: \"))        "
   ]
  },
  {
   "cell_type": "markdown",
   "metadata": {},
   "source": [
    "#### tell() and seek() methods:\n",
    "    tell() - used to know where the cursor is placed at now\n",
    "    seek() - used to change the position of cursor to origin,previous,end\n",
    "\n",
    "        seek(0,0) - origin\n",
    "        seek(0,1) - previous\n",
    "        seek(0,2) - end point"
   ]
  },
  {
   "cell_type": "code",
   "execution_count": 54,
   "metadata": {},
   "outputs": [
    {
     "name": "stdout",
     "output_type": "stream",
     "text": [
      "8\n",
      "0\n",
      "18\n",
      "18\n"
     ]
    }
   ],
   "source": [
    "with open(\"new.txt\",\"r\") as f:\n",
    "    #print(\"length of file is\",len(f.read()))\n",
    "    data=f.read(8)\n",
    "    position=f.tell()\n",
    "    print(position)\n",
    "    position1=f.seek(0,0)  #change to origin position\n",
    "    print(position1)\n",
    "    position2=f.seek(0,2)  #change to end position\n",
    "    print(position2)\n",
    "    position3=f.seek(0,1)  #change to previous position\n",
    "    print(position3)"
   ]
  },
  {
   "cell_type": "markdown",
   "metadata": {},
   "source": [
    "#### List Comprehension in python:\n",
    "List Comprehensions are used to creating new lists by using existing lists or from other iterables(lists,sets,tuples,dictionaries)\n",
    "##### Syntax:\n",
    "output=[result for val in input_sequence if value satisfies the condition]"
   ]
  },
  {
   "cell_type": "code",
   "execution_count": 58,
   "metadata": {},
   "outputs": [
    {
     "name": "stdout",
     "output_type": "stream",
     "text": [
      "[1, 4, 9, 16, 25, 36, 49, 64, 81]\n"
     ]
    }
   ],
   "source": [
    "# normal code\n",
    "li=[1,2,3,4,5,6,7,8,9]\n",
    "out=[]\n",
    "for i in li:\n",
    "    out.append(pow(i,2))\n",
    "print(out)"
   ]
  },
  {
   "cell_type": "code",
   "execution_count": 60,
   "metadata": {},
   "outputs": [
    {
     "name": "stdout",
     "output_type": "stream",
     "text": [
      "[1, 4, 9, 16, 25, 36, 49, 64, 81]\n"
     ]
    }
   ],
   "source": [
    "# using list comprehension\n",
    "data=[pow(i,2) for i in li]\n",
    "print(data)"
   ]
  },
  {
   "cell_type": "code",
   "execution_count": 61,
   "metadata": {},
   "outputs": [
    {
     "name": "stdout",
     "output_type": "stream",
     "text": [
      "[5, 10, 15, 20, 25, 35, 40, 45, 50, 55, 65, 70, 75, 80, 85, 95]\n"
     ]
    }
   ],
   "source": [
    "li=[]\n",
    "for i in range(1,100):\n",
    "    if i%5==0 and i%6!=0:\n",
    "        li.append(i)\n",
    "print(li)"
   ]
  },
  {
   "cell_type": "code",
   "execution_count": 62,
   "metadata": {},
   "outputs": [
    {
     "name": "stdout",
     "output_type": "stream",
     "text": [
      "[5, 10, 15, 20, 25, 35, 40, 45, 50, 55, 65, 70, 75, 80, 85, 95]\n"
     ]
    }
   ],
   "source": [
    "data=[i for i in range(1,100) if(i%5==0 and i%6!=0) ]\n",
    "print(data)"
   ]
  },
  {
   "cell_type": "markdown",
   "metadata": {},
   "source": [
    "#### Dictionary Comprehension:\n",
    "##### Syntax:\n",
    "{key:value for (key,value) in iterable if (key,value) are satisfies the condition}"
   ]
  },
  {
   "cell_type": "code",
   "execution_count": 63,
   "metadata": {},
   "outputs": [
    {
     "name": "stdout",
     "output_type": "stream",
     "text": [
      "{2: 8, 4: 64, 6: 216, 8: 512}\n"
     ]
    }
   ],
   "source": [
    "## normal code\n",
    "li=[1,2,3,4,5,6,7,8,9]\n",
    "odict={}\n",
    "for i in li:\n",
    "    if i%2==0:\n",
    "        odict[i]=pow(i,3)\n",
    "print(odict)"
   ]
  },
  {
   "cell_type": "code",
   "execution_count": 64,
   "metadata": {},
   "outputs": [
    {
     "data": {
      "text/plain": [
       "{2: 8, 4: 64, 6: 216, 8: 512}"
      ]
     },
     "execution_count": 64,
     "metadata": {},
     "output_type": "execute_result"
    }
   ],
   "source": [
    "## using dictionary comprehension\n",
    "{i:pow(i,3) for i in range(1,10) if i%2==0}"
   ]
  },
  {
   "cell_type": "markdown",
   "metadata": {},
   "source": [
    "### Functional Programming in Python\n",
    "    - what is functional Prgramming?\n",
    "        map( )    - Mapping (each element to element)\n",
    "        filter( ) - Filtering\n",
    "        reduce( ) - Serial Mathematical operations\n",
    "        lambda    - Its keyword act as function without a name\n",
    "        \n",
    "Note: These functions are taken other function names as its parameters"
   ]
  },
  {
   "cell_type": "markdown",
   "metadata": {},
   "source": [
    "#### map() \n",
    "###### syntax:\n",
    "    map(functionname,sequence)"
   ]
  },
  {
   "cell_type": "code",
   "execution_count": 72,
   "metadata": {},
   "outputs": [
    {
     "name": "stdout",
     "output_type": "stream",
     "text": [
      "{66, 99, 131, 75, 114, 51, 54, 86, 59}\n"
     ]
    }
   ],
   "source": [
    "def addsum(x):  #(map() functions always return map objects )\n",
    "    return x*x+50\n",
    "li=[1,2,3,4,5,6,7,8,9]\n",
    "data=set(map(addsum,li))\n",
    "print(data)"
   ]
  },
  {
   "cell_type": "markdown",
   "metadata": {},
   "source": [
    "#### filter( ) : To filter out the required data from given sequence\n",
    "##### Syntax: \n",
    "filter(functionname,sequence)"
   ]
  },
  {
   "cell_type": "code",
   "execution_count": 77,
   "metadata": {},
   "outputs": [
    {
     "name": "stdout",
     "output_type": "stream",
     "text": [
      "[30, 18, 65, 89, 100]\n"
     ]
    }
   ],
   "source": [
    "#to filter out who are eligible to vote in given list of ages\n",
    "def numFilter(x):\n",
    "    if x>=18:\n",
    "        return x\n",
    "data=filter(numFilter,(30,15,18,12,17,65,89,100,3))\n",
    "print(list(data))"
   ]
  },
  {
   "cell_type": "code",
   "execution_count": 81,
   "metadata": {},
   "outputs": [
    {
     "name": "stdout",
     "output_type": "stream",
     "text": [
      "enter stringsmam priya 121 525 madam \n",
      "['mam', '121', '525', 'madam']\n"
     ]
    }
   ],
   "source": [
    "def stringfilter(s):\n",
    "    if s==s[::-1]:\n",
    "         return s\n",
    "data=filter(stringfilter,input(\"enter strings\").split())\n",
    "print(list(data))"
   ]
  },
  {
   "cell_type": "markdown",
   "metadata": {},
   "source": [
    "#### reduce( ) - Its function of predefined math modules\n",
    "##### Syntax:\n",
    "reduce(functionname,sequence)"
   ]
  },
  {
   "cell_type": "code",
   "execution_count": 121,
   "metadata": {},
   "outputs": [
    {
     "name": "stdout",
     "output_type": "stream",
     "text": [
      "6\n"
     ]
    }
   ],
   "source": [
    "from functools import reduce\n",
    "def fact(x,y):\n",
    "    return x*y\n",
    "fact1=reduce(fact,range(1,4))\n",
    "print(fact1)"
   ]
  },
  {
   "cell_type": "code",
   "execution_count": 122,
   "metadata": {},
   "outputs": [
    {
     "name": "stdout",
     "output_type": "stream",
     "text": [
      "360\n"
     ]
    }
   ],
   "source": [
    "def add(x,y):\n",
    "    return x+y\n",
    "data=reduce(add,[10,20,30,40,50,60,70,80])\n",
    "print(data)"
   ]
  },
  {
   "cell_type": "markdown",
   "metadata": {},
   "source": [
    "#### Lambda\n",
    "##### Syntax:\n",
    "        lambda arguments : Expression\n",
    "Note: We can use any no.of arguments but its evaluates only one expression"
   ]
  },
  {
   "cell_type": "code",
   "execution_count": 111,
   "metadata": {},
   "outputs": [
    {
     "name": "stdout",
     "output_type": "stream",
     "text": [
      "125\n",
      "27\n"
     ]
    }
   ],
   "source": [
    "def cube(x):\n",
    "    return x*x*x\n",
    "result=lambda y:y*y*y\n",
    "print(cube(5))\n",
    "print(result(3))"
   ]
  },
  {
   "cell_type": "code",
   "execution_count": 112,
   "metadata": {},
   "outputs": [],
   "source": [
    "# map() with lambda filter and reduce with lambda"
   ]
  },
  {
   "cell_type": "code",
   "execution_count": 113,
   "metadata": {},
   "outputs": [
    {
     "data": {
      "text/plain": [
       "[4, 6, 8, 90]"
      ]
     },
     "execution_count": 113,
     "metadata": {},
     "output_type": "execute_result"
    }
   ],
   "source": [
    "list(filter((lambda x:x%2==0),[23,4,5,6,7,8,90,85]))"
   ]
  },
  {
   "cell_type": "code",
   "execution_count": 123,
   "metadata": {},
   "outputs": [
    {
     "data": {
      "text/plain": [
       "36288000000000000"
      ]
     },
     "execution_count": 123,
     "metadata": {},
     "output_type": "execute_result"
    }
   ],
   "source": [
    "# reduce with lambda:\n",
    "reduce((lambda x,y:x*y),[10,20,30,40,50,60,70,80,90,100])"
   ]
  },
  {
   "cell_type": "code",
   "execution_count": 124,
   "metadata": {},
   "outputs": [
    {
     "data": {
      "text/plain": [
       "29342"
      ]
     },
     "execution_count": 124,
     "metadata": {},
     "output_type": "execute_result"
    }
   ],
   "source": [
    "#ma,p() filter() reduce() with lambda:\n",
    "li=[85,57,54,66,25,7845,5984,555]\n",
    "reduce(lambda x,y:x+y,filter(lambda x:x>20,map(lambda x:x+x,li)))"
   ]
  }
 ],
 "metadata": {
  "kernelspec": {
   "display_name": "Python 3",
   "language": "python",
   "name": "python3"
  },
  "language_info": {
   "codemirror_mode": {
    "name": "ipython",
    "version": 3
   },
   "file_extension": ".py",
   "mimetype": "text/x-python",
   "name": "python",
   "nbconvert_exporter": "python",
   "pygments_lexer": "ipython3",
   "version": "3.8.5"
  }
 },
 "nbformat": 4,
 "nbformat_minor": 4
}
