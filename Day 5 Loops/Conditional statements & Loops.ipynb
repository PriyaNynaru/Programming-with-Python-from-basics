{
 "cells": [
  {
   "cell_type": "markdown",
   "metadata": {},
   "source": [
    "## Day 5\n",
    "- Print function\n",
    "- Conditional ststements\n",
    "- Loops"
   ]
  },
  {
   "cell_type": "code",
   "execution_count": 1,
   "metadata": {},
   "outputs": [
    {
     "name": "stdout",
     "output_type": "stream",
     "text": [
      "Help on built-in function print in module builtins:\n",
      "\n",
      "print(...)\n",
      "    print(value, ..., sep=' ', end='\\n', file=sys.stdout, flush=False)\n",
      "    \n",
      "    Prints the values to a stream, or to sys.stdout by default.\n",
      "    Optional keyword arguments:\n",
      "    file:  a file-like object (stream); defaults to the current sys.stdout.\n",
      "    sep:   string inserted between values, default a space.\n",
      "    end:   string appended after the last value, default a newline.\n",
      "    flush: whether to forcibly flush the stream.\n",
      "\n"
     ]
    }
   ],
   "source": [
    "help(print)"
   ]
  },
  {
   "cell_type": "code",
   "execution_count": 11,
   "metadata": {},
   "outputs": [
    {
     "name": "stdout",
     "output_type": "stream",
     "text": [
      "21\n",
      "05\n",
      "2021\n",
      "21/05/2021\n"
     ]
    }
   ],
   "source": [
    "x=input()\n",
    "y=input()\n",
    "z=input()\n",
    "print(x,y,z,sep='/')"
   ]
  },
  {
   "cell_type": "code",
   "execution_count": 12,
   "metadata": {},
   "outputs": [
    {
     "name": "stdout",
     "output_type": "stream",
     "text": [
      "21 2021\n"
     ]
    }
   ],
   "source": [
    "print(x,z)"
   ]
  },
  {
   "cell_type": "code",
   "execution_count": 13,
   "metadata": {},
   "outputs": [
    {
     "name": "stdout",
     "output_type": "stream",
     "text": [
      "2021\n",
      "21$"
     ]
    }
   ],
   "source": [
    "print(z)\n",
    "print(x,end='$')"
   ]
  },
  {
   "cell_type": "code",
   "execution_count": 14,
   "metadata": {},
   "outputs": [
    {
     "name": "stdout",
     "output_type": "stream",
     "text": [
      "12\n",
      "34\n",
      "12,34\n"
     ]
    }
   ],
   "source": [
    "a,b=int(input()),int(input())\n",
    "print(a,b,sep=',')"
   ]
  },
  {
   "cell_type": "code",
   "execution_count": 16,
   "metadata": {},
   "outputs": [
    {
     "name": "stdout",
     "output_type": "stream",
     "text": [
      "12*34\n",
      "21\n"
     ]
    }
   ],
   "source": [
    "print(a,end=\"*\")\n",
    "print(b)\n",
    "print(x)"
   ]
  },
  {
   "cell_type": "markdown",
   "metadata": {},
   "source": [
    "### Conditional statements\n",
    "- if\n",
    "- if,else\n",
    "- nested if\n",
    "- if,elif"
   ]
  },
  {
   "cell_type": "markdown",
   "metadata": {},
   "source": [
    "#### syntax\n",
    "~~~\n",
    "    if(condition):\n",
    "        statement1\n",
    "        statement2\n",
    "    elif(condition):\n",
    "        statement3\n",
    "        statement4\n",
    "    else:\n",
    "    statement\n",
    "~~~"
   ]
  },
  {
   "cell_type": "code",
   "execution_count": 28,
   "metadata": {},
   "outputs": [
    {
     "name": "stdout",
     "output_type": "stream",
     "text": [
      "enter x1: abcd\n",
      "enter x2: abe\n",
      "x1 is less than x2\n"
     ]
    }
   ],
   "source": [
    "x1,x2=input(\"enter x1: \"),input(\"enter x2: \")\n",
    "if (x1==x2):\n",
    "    print(\"X1 is equal to x2\")\n",
    "elif (x1>x2):\n",
    "    print(\"x1 is greater than x2\")\n",
    "else:\n",
    "    print(\"x1 is less than x2\")"
   ]
  },
  {
   "cell_type": "code",
   "execution_count": 35,
   "metadata": {},
   "outputs": [
    {
     "name": "stdout",
     "output_type": "stream",
     "text": [
      " Please enter English Marks: 50\n",
      " Please enter Math score: 48\n",
      " Please enter Computer Marks: 96\n",
      " Please enter Physics Marks: 96\n",
      " Please enter Chemistry Marks: 65\n",
      "Total Marks = 355.00\n",
      "Marks Percentage = 71.000000\n",
      "pass and C Grade\n"
     ]
    }
   ],
   "source": [
    "english = float(input(\" Please enter English Marks: \"))\n",
    "math = float(input(\" Please enter Math score: \"))\n",
    "computers = float(input(\" Please enter Computer Marks: \"))\n",
    "physics = float(input(\" Please enter Physics Marks: \"))\n",
    "chemistry = float(input(\" Please enter Chemistry Marks: \"))\n",
    "total = english + math + computers + physics + chemistry\n",
    "percentage = (total / 500) * 100\n",
    "print(\"Total Marks = %f\"  %total)\n",
    "print(\"Marks Percentage = %f\"  %percentage)\n",
    "if (percentage >= 90):\n",
    "    print(\"pass and A Grade\")\n",
    "elif (percentage >= 80):\n",
    "    print(\"pass and B Grade\")\n",
    "elif (percentage >= 70):\n",
    "    print(\"pass and C Grade\")\n",
    "elif (percentage >= 60):\n",
    "    print(\"pass and D Grade\")\n",
    "elif (percentage >= 40):\n",
    "    print(\"pass and E Grade\")\n",
    "else:\n",
    "    print(\"Fail\")\n"
   ]
  },
  {
   "cell_type": "code",
   "execution_count": 37,
   "metadata": {},
   "outputs": [
    {
     "name": "stdout",
     "output_type": "stream",
     "text": [
      "20\n",
      "10\n",
      "m>n\n"
     ]
    }
   ],
   "source": [
    "m,n=input( ),input( )\n",
    "if m<n:\n",
    "    print(\"m is lesser than n\")\n",
    "    if m<n:\n",
    "        print(\"m is lesser than n\")\n",
    "    else:\n",
    "        print(\"m is not above n\")\n",
    "else:\n",
    "    print(\"m>n\")"
   ]
  },
  {
   "cell_type": "markdown",
   "metadata": {},
   "source": [
    "#### check given number is divisible by 6"
   ]
  },
  {
   "cell_type": "code",
   "execution_count": 40,
   "metadata": {},
   "outputs": [
    {
     "name": "stdout",
     "output_type": "stream",
     "text": [
      "Enter the number: 87\n",
      "Number is not divisable by 6\n"
     ]
    }
   ],
   "source": [
    "num=int(input(\"Enter the number: \"))\n",
    "if (num%6==0):\n",
    "    print(\"Number divisable by 6\")\n",
    "else:\n",
    "    print(\"Number is not divisable by 6\")"
   ]
  },
  {
   "cell_type": "code",
   "execution_count": 42,
   "metadata": {},
   "outputs": [
    {
     "name": "stdout",
     "output_type": "stream",
     "text": [
      "Enter the number: 60\n",
      "Number divisable by 6\n"
     ]
    }
   ],
   "source": [
    "num=int(input(\"Enter the number: \"))\n",
    "if (num%2==0 and num%3==0):\n",
    "    print(\"Number divisable by 6\")\n",
    "else:\n",
    "    print(\"Number is not divisable by 6\")"
   ]
  },
  {
   "cell_type": "markdown",
   "metadata": {},
   "source": [
    "#### check given number is even or odd"
   ]
  },
  {
   "cell_type": "code",
   "execution_count": 46,
   "metadata": {},
   "outputs": [
    {
     "name": "stdout",
     "output_type": "stream",
     "text": [
      "Enter the number: 3\n",
      "Number is odd\n"
     ]
    }
   ],
   "source": [
    "num=int(input(\"Enter the number: \"))\n",
    "if (num%2==0 and num!=0):\n",
    "    print(\"Number is Even\")\n",
    "else:\n",
    "    print(\"Number is odd\")"
   ]
  },
  {
   "cell_type": "markdown",
   "metadata": {},
   "source": [
    "#### check given number is prime or not "
   ]
  },
  {
   "cell_type": "code",
   "execution_count": 68,
   "metadata": {},
   "outputs": [
    {
     "name": "stdout",
     "output_type": "stream",
     "text": [
      "Enter the number: 34\n",
      "34 is not a prime number\n"
     ]
    }
   ],
   "source": [
    "num = int(input('Enter the number: '))\n",
    "if num > 1:\n",
    "    for i in range(2, int(num/2)+1):\n",
    "        if (num % i) == 0:\n",
    "            print(num, \"is not a prime number\")\n",
    "            break\n",
    "    else:\n",
    "        print(num, \"is a prime number\")\n",
    "else:\n",
    "    print(num, \"is not a prime number\")"
   ]
  },
  {
   "cell_type": "markdown",
   "metadata": {},
   "source": [
    "#### To check whether it is square or not "
   ]
  },
  {
   "cell_type": "code",
   "execution_count": 20,
   "metadata": {},
   "outputs": [
    {
     "name": "stdout",
     "output_type": "stream",
     "text": [
      "Enter the length: 12\n",
      "Enter the breadth: 12\n",
      "square\n"
     ]
    }
   ],
   "source": [
    "length,breadth=int(input(\"Enter the length: \")),int(input(\"Enter the breadth: \"))\n",
    "if (length==breadth):\n",
    "    print(\"square\")\n",
    "else:\n",
    "    print(\"Not a square\")"
   ]
  },
  {
   "cell_type": "markdown",
   "metadata": {},
   "source": [
    "### Loops\n",
    "- for \n",
    "    - To generate a sequence\n",
    "- syntax\n",
    "    - for(star,stop,step) default start value is 0; stop value is excluded ; step automatically incremented by 1\n",
    "- while\n",
    "    - Can execute a set of statements as long as condition is true\n",
    "- syntax\n",
    "    - while(condition)"
   ]
  },
  {
   "cell_type": "code",
   "execution_count": 51,
   "metadata": {},
   "outputs": [
    {
     "name": "stdout",
     "output_type": "stream",
     "text": [
      "priya"
     ]
    }
   ],
   "source": [
    "x='priya'\n",
    "for i in x:\n",
    "    print(i,end=\"\")"
   ]
  },
  {
   "cell_type": "code",
   "execution_count": 1,
   "metadata": {},
   "outputs": [
    {
     "name": "stdout",
     "output_type": "stream",
     "text": [
      "1\t2\t3\t4\t5\t"
     ]
    }
   ],
   "source": [
    "for i in range(1,6):\n",
    "    print(i,end=\"\\t\")"
   ]
  },
  {
   "cell_type": "code",
   "execution_count": 3,
   "metadata": {},
   "outputs": [
    {
     "name": "stdout",
     "output_type": "stream",
     "text": [
      "1\n",
      "1\n",
      "2\n",
      "2\n",
      "3\n",
      "3\n"
     ]
    }
   ],
   "source": [
    "for i in range(1,4):\n",
    "    x=int(input())\n",
    "    print(x)\n"
   ]
  },
  {
   "cell_type": "markdown",
   "metadata": {},
   "source": [
    "for i in range(5):\n",
    "    n=int(input())\n",
    "print(n)"
   ]
  },
  {
   "cell_type": "code",
   "execution_count": 10,
   "metadata": {},
   "outputs": [
    {
     "name": "stdout",
     "output_type": "stream",
     "text": [
      "hello\n",
      "hello\n",
      "hello\n",
      "out of for loop\n",
      "range is more than 3\n"
     ]
    }
   ],
   "source": [
    "for x in range(3):\n",
    "    print(\"hello\")\n",
    "else:\n",
    "    print(\"out of for loop\")\n",
    "    print(\"range is more than 3\")"
   ]
  },
  {
   "cell_type": "markdown",
   "metadata": {},
   "source": [
    "#### Break statement"
   ]
  },
  {
   "cell_type": "code",
   "execution_count": 11,
   "metadata": {},
   "outputs": [
    {
     "name": "stdout",
     "output_type": "stream",
     "text": [
      "0\n",
      "1\n",
      "2\n"
     ]
    }
   ],
   "source": [
    "for i in range(3):\n",
    "    print(i)\n",
    "    if i==2:\n",
    "        break"
   ]
  },
  {
   "cell_type": "markdown",
   "metadata": {},
   "source": [
    "#### Continue statement \n",
    "    - It will stop the current iteration and continues with next iteration"
   ]
  },
  {
   "cell_type": "code",
   "execution_count": 14,
   "metadata": {},
   "outputs": [
    {
     "name": "stdout",
     "output_type": "stream",
     "text": [
      "0\n",
      "1\n",
      "3\n"
     ]
    }
   ],
   "source": [
    "for i in range(4):\n",
    "    if i==2:\n",
    "        continue\n",
    "    print(i)"
   ]
  },
  {
   "cell_type": "markdown",
   "metadata": {},
   "source": [
    "#### Pass - nothing to specify"
   ]
  },
  {
   "cell_type": "code",
   "execution_count": 15,
   "metadata": {},
   "outputs": [],
   "source": [
    "for i in range(5):\n",
    "    pass"
   ]
  },
  {
   "cell_type": "markdown",
   "metadata": {},
   "source": [
    "#### write a program to print even numbers in the range(1-50)"
   ]
  },
  {
   "cell_type": "code",
   "execution_count": 19,
   "metadata": {},
   "outputs": [
    {
     "name": "stdout",
     "output_type": "stream",
     "text": [
      "Enter the start value: 20\n",
      "Enter the end value: 25\n",
      "20  is even number\n",
      "21  is odd number\n",
      "22  is even number\n",
      "23  is odd number\n",
      "24  is even number\n",
      "25  is odd number\n"
     ]
    }
   ],
   "source": [
    "start,end=int(input(\"Enter the start value: \")),int(input(\"Enter the end value: \"))\n",
    "for i in range(start,end+1):\n",
    "    if i%2==0:\n",
    "        print(i,\" is even number\")\n",
    "    else:\n",
    "        print(i,\" is odd number\")"
   ]
  }
 ],
 "metadata": {
  "kernelspec": {
   "display_name": "Python 3",
   "language": "python",
   "name": "python3"
  },
  "language_info": {
   "codemirror_mode": {
    "name": "ipython",
    "version": 3
   },
   "file_extension": ".py",
   "mimetype": "text/x-python",
   "name": "python",
   "nbconvert_exporter": "python",
   "pygments_lexer": "ipython3",
   "version": "3.8.5"
  }
 },
 "nbformat": 4,
 "nbformat_minor": 4
}
