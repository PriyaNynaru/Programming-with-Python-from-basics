{
 "cells": [
  {
   "cell_type": "markdown",
   "metadata": {},
   "source": [
    "#### for syntax\n",
    "- for variable in iterator's\n",
    "    - strings,list,tuples,dict,sets\n",
    "- for variable in range(start,stop,step)"
   ]
  },
  {
   "cell_type": "code",
   "execution_count": 6,
   "metadata": {},
   "outputs": [
    {
     "name": "stdout",
     "output_type": "stream",
     "text": [
      "50\t51\t52\t53\t54\t55\t56\t57\t58\t59\t60\t61\t62\t63\t64\t65\t66\t67\t68\t69\t70\t71\t72\t73\t74\t75\t76\t77\t78\t79\t80\t81\t82\t83\t84\t85\t86\t87\t88\t89\t90\t91\t92\t93\t94\t95\t96\t97\t98\t99\t100\t"
     ]
    }
   ],
   "source": [
    "## Generate a range numbers from 50 to 100\n",
    "for i in range(50,101):\n",
    "    print(i,end=\"\\t\")\n"
   ]
  },
  {
   "cell_type": "code",
   "execution_count": 7,
   "metadata": {},
   "outputs": [
    {
     "name": "stdout",
     "output_type": "stream",
     "text": [
      "100\t99\t98\t97\t96\t95\t94\t93\t92\t91\t90\t89\t88\t87\t86\t85\t84\t83\t82\t81\t80\t79\t78\t77\t76\t75\t74\t73\t72\t71\t70\t69\t68\t67\t66\t65\t64\t63\t62\t61\t60\t59\t58\t57\t56\t55\t54\t53\t52\t51\t50\t49\t48\t47\t46\t45\t44\t43\t42\t41\t40\t39\t38\t37\t36\t35\t34\t33\t32\t31\t30\t29\t28\t27\t26\t25\t24\t23\t22\t21\t20\t19\t18\t17\t16\t15\t14\t13\t12\t11\t10\t9\t8\t7\t6\t5\t4\t3\t2\t1\t"
     ]
    }
   ],
   "source": [
    "#Generate a range numbers from 100 to 1\n",
    "for i in range(100,0,-1):\n",
    "    print(i,end=\"\\t\")"
   ]
  },
  {
   "cell_type": "code",
   "execution_count": 18,
   "metadata": {},
   "outputs": [
    {
     "name": "stdout",
     "output_type": "stream",
     "text": [
      "2\t3\t4\t6\t7\t8\t9\t11\t12\t13\t14\t16\t17\t18\t19\t\n",
      " Execution terminated\n"
     ]
    }
   ],
   "source": [
    "#Generate a numbers from 2 to 50\n",
    "#skip the numbers 5 and 10 and 15\n",
    "#stop the loop when number is 20\n",
    "for i in range(2,51):\n",
    "    if i==5 or i==10 or i==15:\n",
    "        continue\n",
    "    elif i==20:\n",
    "        print(\"\\n Execution terminated\")\n",
    "        break\n",
    "    else:\n",
    "        print(i,end=\"\\t\")"
   ]
  },
  {
   "cell_type": "markdown",
   "metadata": {},
   "source": [
    "#### While\n",
    "- while loop can execute a set of statements as long as a condition true \n",
    "- syntax\n",
    "    - while(condition):"
   ]
  },
  {
   "cell_type": "code",
   "execution_count": 1,
   "metadata": {},
   "outputs": [
    {
     "name": "stdout",
     "output_type": "stream",
     "text": [
      "1\t2\t3\t4\t5\t6\t7\t8\t9\t10\t"
     ]
    }
   ],
   "source": [
    "##Generate numbers from 1 to 10 \n",
    "x=1\n",
    "while(x<=10):\n",
    "    print(x,end=\"\\t\")\n",
    "    x+=1"
   ]
  },
  {
   "cell_type": "code",
   "execution_count": 3,
   "metadata": {},
   "outputs": [
    {
     "name": "stdout",
     "output_type": "stream",
     "text": [
      "2 3 5 7 11 13 17 19 23 29 31 37 41 43 47 53 59 61 67 71 73 79 83 89 97 "
     ]
    }
   ],
   "source": [
    "#Generate prime numbers from 1 to 10\n",
    "num=1\n",
    "while(num<=100):\n",
    "    count=0\n",
    "    i=2\n",
    "    while(i<=num//2):\n",
    "        if(num%i==0):\n",
    "            count=count+1\n",
    "            break\n",
    "        i=i+1\n",
    "    if(count==0 and num!=1):\n",
    "        print(num,end=' ')\n",
    "    num=num+1   "
   ]
  },
  {
   "cell_type": "code",
   "execution_count": 15,
   "metadata": {},
   "outputs": [
    {
     "name": "stdout",
     "output_type": "stream",
     "text": [
      "4\t9\t16\t25\t36\t49\t64\t81\t100\t121\t144\t169\t196\t225\t256\t289\t324\t361\t400\t441\t484\t529\t576\t625\t676\t729\t784\t841\t900\t961\t1024\t1089\t1156\t1225\t1296\t1369\t1444\t1521\t1600\t1681\t1764\t1849\t1936\t2025\t2116\t2209\t2304\t2401\t2500\t2601\t"
     ]
    }
   ],
   "source": [
    "i=1\n",
    "while i<=50:\n",
    "    i+=1\n",
    "    print(i**2,end='\\t')"
   ]
  },
  {
   "cell_type": "markdown",
   "metadata": {},
   "source": [
    "#### Functions\n",
    "~~~\n",
    "- syntax\n",
    "    -def (function name):\n",
    "        statement1\n",
    "        statement2\n",
    "        .\n",
    "        .\n",
    "        .\n",
    "        .\n",
    "        return\n",
    "~~~\n",
    "- Function is a blok of reusable code that is used to perform a specific task\n",
    "- Advantages:\n",
    "    - Reduce the complication of code\n",
    "    - complex code into simpler manner\n",
    "    - reuse the code\n",
    "    - improve the clarity of code\n",
    "    - handling is easy\n",
    "#### Types of Functions\n",
    "- built in functions \n",
    "    -Ex: print,type,min,max\n",
    "- user defined functions\n",
    "    - Functions that can be defined by user\n",
    "    "
   ]
  },
  {
   "cell_type": "code",
   "execution_count": 5,
   "metadata": {
    "collapsed": true
   },
   "outputs": [
    {
     "data": {
      "text/plain": [
       "['ArithmeticError',\n",
       " 'AssertionError',\n",
       " 'AttributeError',\n",
       " 'BaseException',\n",
       " 'BlockingIOError',\n",
       " 'BrokenPipeError',\n",
       " 'BufferError',\n",
       " 'BytesWarning',\n",
       " 'ChildProcessError',\n",
       " 'ConnectionAbortedError',\n",
       " 'ConnectionError',\n",
       " 'ConnectionRefusedError',\n",
       " 'ConnectionResetError',\n",
       " 'DeprecationWarning',\n",
       " 'EOFError',\n",
       " 'Ellipsis',\n",
       " 'EnvironmentError',\n",
       " 'Exception',\n",
       " 'False',\n",
       " 'FileExistsError',\n",
       " 'FileNotFoundError',\n",
       " 'FloatingPointError',\n",
       " 'FutureWarning',\n",
       " 'GeneratorExit',\n",
       " 'IOError',\n",
       " 'ImportError',\n",
       " 'ImportWarning',\n",
       " 'IndentationError',\n",
       " 'IndexError',\n",
       " 'InterruptedError',\n",
       " 'IsADirectoryError',\n",
       " 'KeyError',\n",
       " 'KeyboardInterrupt',\n",
       " 'LookupError',\n",
       " 'MemoryError',\n",
       " 'ModuleNotFoundError',\n",
       " 'NameError',\n",
       " 'None',\n",
       " 'NotADirectoryError',\n",
       " 'NotImplemented',\n",
       " 'NotImplementedError',\n",
       " 'OSError',\n",
       " 'OverflowError',\n",
       " 'PendingDeprecationWarning',\n",
       " 'PermissionError',\n",
       " 'ProcessLookupError',\n",
       " 'RecursionError',\n",
       " 'ReferenceError',\n",
       " 'ResourceWarning',\n",
       " 'RuntimeError',\n",
       " 'RuntimeWarning',\n",
       " 'StopAsyncIteration',\n",
       " 'StopIteration',\n",
       " 'SyntaxError',\n",
       " 'SyntaxWarning',\n",
       " 'SystemError',\n",
       " 'SystemExit',\n",
       " 'TabError',\n",
       " 'TimeoutError',\n",
       " 'True',\n",
       " 'TypeError',\n",
       " 'UnboundLocalError',\n",
       " 'UnicodeDecodeError',\n",
       " 'UnicodeEncodeError',\n",
       " 'UnicodeError',\n",
       " 'UnicodeTranslateError',\n",
       " 'UnicodeWarning',\n",
       " 'UserWarning',\n",
       " 'ValueError',\n",
       " 'Warning',\n",
       " 'WindowsError',\n",
       " 'ZeroDivisionError',\n",
       " '__IPYTHON__',\n",
       " '__build_class__',\n",
       " '__debug__',\n",
       " '__doc__',\n",
       " '__import__',\n",
       " '__loader__',\n",
       " '__name__',\n",
       " '__package__',\n",
       " '__spec__',\n",
       " 'abs',\n",
       " 'all',\n",
       " 'any',\n",
       " 'ascii',\n",
       " 'bin',\n",
       " 'bool',\n",
       " 'breakpoint',\n",
       " 'bytearray',\n",
       " 'bytes',\n",
       " 'callable',\n",
       " 'chr',\n",
       " 'classmethod',\n",
       " 'compile',\n",
       " 'complex',\n",
       " 'copyright',\n",
       " 'credits',\n",
       " 'delattr',\n",
       " 'dict',\n",
       " 'dir',\n",
       " 'display',\n",
       " 'divmod',\n",
       " 'enumerate',\n",
       " 'eval',\n",
       " 'exec',\n",
       " 'filter',\n",
       " 'float',\n",
       " 'format',\n",
       " 'frozenset',\n",
       " 'get_ipython',\n",
       " 'getattr',\n",
       " 'globals',\n",
       " 'hasattr',\n",
       " 'hash',\n",
       " 'help',\n",
       " 'hex',\n",
       " 'id',\n",
       " 'input',\n",
       " 'int',\n",
       " 'isinstance',\n",
       " 'issubclass',\n",
       " 'iter',\n",
       " 'len',\n",
       " 'license',\n",
       " 'list',\n",
       " 'locals',\n",
       " 'map',\n",
       " 'max',\n",
       " 'memoryview',\n",
       " 'min',\n",
       " 'next',\n",
       " 'object',\n",
       " 'oct',\n",
       " 'open',\n",
       " 'ord',\n",
       " 'pow',\n",
       " 'print',\n",
       " 'property',\n",
       " 'range',\n",
       " 'repr',\n",
       " 'reversed',\n",
       " 'round',\n",
       " 'set',\n",
       " 'setattr',\n",
       " 'slice',\n",
       " 'sorted',\n",
       " 'staticmethod',\n",
       " 'str',\n",
       " 'sum',\n",
       " 'super',\n",
       " 'tuple',\n",
       " 'type',\n",
       " 'vars',\n",
       " 'zip']"
      ]
     },
     "execution_count": 5,
     "metadata": {},
     "output_type": "execute_result"
    }
   ],
   "source": [
    "# to get in built functions\n",
    "import builtins\n",
    "dir(builtins)\n"
   ]
  },
  {
   "cell_type": "code",
   "execution_count": 2,
   "metadata": {},
   "outputs": [
    {
     "name": "stdout",
     "output_type": "stream",
     "text": [
      "hello\n",
      "Apssdc\n"
     ]
    }
   ],
   "source": [
    "## user defined functions\n",
    "def function():\n",
    "    print(\"hello\")\n",
    "    print(\"Apssdc\")\n",
    "function() ## Function calling"
   ]
  },
  {
   "cell_type": "code",
   "execution_count": 3,
   "metadata": {},
   "outputs": [],
   "source": [
    "def calculations(a,b):\n",
    "    print(a+b,a-b,a*b,a//b,a%b)"
   ]
  },
  {
   "cell_type": "code",
   "execution_count": 4,
   "metadata": {},
   "outputs": [
    {
     "name": "stdout",
     "output_type": "stream",
     "text": [
      "8 2 15 1 2\n"
     ]
    }
   ],
   "source": [
    "calculations(5,3)"
   ]
  },
  {
   "cell_type": "code",
   "execution_count": 10,
   "metadata": {},
   "outputs": [
    {
     "name": "stdout",
     "output_type": "stream",
     "text": [
      "5\n"
     ]
    },
    {
     "data": {
      "text/plain": [
       "'Odd'"
      ]
     },
     "execution_count": 10,
     "metadata": {},
     "output_type": "execute_result"
    }
   ],
   "source": [
    "def is_even():\n",
    "    n=int(input())\n",
    "    if n%2==0:\n",
    "        return \"Even\"\n",
    "    return \"Odd\"\n",
    "is_even()"
   ]
  },
  {
   "cell_type": "code",
   "execution_count": 2,
   "metadata": {},
   "outputs": [
    {
     "name": "stdout",
     "output_type": "stream",
     "text": [
      "2\t4\t6\t8\t10\t"
     ]
    }
   ],
   "source": [
    "## Generate even numbers in given range\n",
    "def even_range(lb,ub):\n",
    "    for i in range(lb,ub+1):\n",
    "        if i%2==0:\n",
    "            print(i,end=\"\\t\")\n",
    "even_range(1,10)\n",
    "    "
   ]
  },
  {
   "cell_type": "code",
   "execution_count": 16,
   "metadata": {},
   "outputs": [
    {
     "name": "stdout",
     "output_type": "stream",
     "text": [
      "3\n"
     ]
    },
    {
     "data": {
      "text/plain": [
       "'prime'"
      ]
     },
     "execution_count": 16,
     "metadata": {},
     "output_type": "execute_result"
    }
   ],
   "source": [
    "## Function to check prime number\n",
    "def is_prime(n):\n",
    "    f=0\n",
    "    for i in range(1,n+1):\n",
    "        if n%i==0:\n",
    "            f+=1\n",
    "    if f==2:\n",
    "        return \"prime\"\n",
    "    return \"not a prime\"\n",
    "is_prime(int(input()))"
   ]
  },
  {
   "cell_type": "markdown",
   "metadata": {},
   "source": [
    "- Generate prime numbers between the given range\n",
    "- Generate a multiplication table for given number\n",
    "- To write a function to check the given number is divisable by 6 and 8 but not with 5\n",
    "- write a function to check the given year is leap year or not (year should be divisable by 4 and not divisable by 100 or year divisable by 400)"
   ]
  },
  {
   "cell_type": "code",
   "execution_count": 4,
   "metadata": {},
   "outputs": [
    {
     "name": "stdout",
     "output_type": "stream",
     "text": [
      "2\n",
      "2 * 1 = 2\n",
      "2 * 2 = 4\n",
      "2 * 3 = 6\n",
      "2 * 4 = 8\n",
      "2 * 5 = 10\n",
      "2 * 6 = 12\n",
      "2 * 7 = 14\n",
      "2 * 8 = 16\n",
      "2 * 9 = 18\n",
      "2 * 10 = 20\n"
     ]
    }
   ],
   "source": [
    "## Generate a multiplication table for given number\n",
    "def mul_table(n):\n",
    "    for i in range(1,11):\n",
    "        print(n,\"*\",i,\"=\",n*i)\n",
    "mul_table(int(input()))"
   ]
  },
  {
   "cell_type": "code",
   "execution_count": 5,
   "metadata": {
    "collapsed": true
   },
   "outputs": [
    {
     "name": "stdout",
     "output_type": "stream",
     "text": [
      "2\n",
      "3\n",
      "2 * 1 = 2\n",
      "2 * 2 = 4\n",
      "2 * 3 = 6\n",
      "2 * 4 = 8\n",
      "2 * 5 = 10\n",
      "2 * 6 = 12\n",
      "2 * 7 = 14\n",
      "2 * 8 = 16\n",
      "2 * 9 = 18\n",
      "2 * 10 = 20\n",
      "3 * 1 = 3\n",
      "3 * 2 = 6\n",
      "3 * 3 = 9\n",
      "3 * 4 = 12\n",
      "3 * 5 = 15\n",
      "3 * 6 = 18\n",
      "3 * 7 = 21\n",
      "3 * 8 = 24\n",
      "3 * 9 = 27\n",
      "3 * 10 = 30\n"
     ]
    }
   ],
   "source": [
    "def table_range(lb,ub):\n",
    "    for i in range(lb,ub+1):\n",
    "        mul_table(i)\n",
    "table_range(int(input()),int(input()))"
   ]
  },
  {
   "cell_type": "code",
   "execution_count": 6,
   "metadata": {},
   "outputs": [
    {
     "name": "stdout",
     "output_type": "stream",
     "text": [
      "48\n",
      "48 is divisable by 6 and 8 but not with 5\n"
     ]
    }
   ],
   "source": [
    "## To write a function to check the given number is divisable by 6 and 8 but not with 5\n",
    "def div(n):\n",
    "    if n%6==0 and n%8==0 and n%5!=0:\n",
    "        print(n,\"is divisable by 6 and 8 but not with 5\")\n",
    "div(int(input()))"
   ]
  },
  {
   "cell_type": "code",
   "execution_count": 14,
   "metadata": {},
   "outputs": [
    {
     "name": "stdout",
     "output_type": "stream",
     "text": [
      "1997\n",
      "1997 is not leap year\n"
     ]
    }
   ],
   "source": [
    "## write a function to check the given year is leap year or not\n",
    "def leap_year(yr):\n",
    "    if yr%4==0 and yr%100!=0 or yr%400==0:\n",
    "        print(yr,\"is leap year\")\n",
    "    else:\n",
    "        print(yr,\"is not leap year\")\n",
    "leap_year(int(input()))"
   ]
  },
  {
   "cell_type": "code",
   "execution_count": 15,
   "metadata": {},
   "outputs": [
    {
     "name": "stdout",
     "output_type": "stream",
     "text": [
      "1990\n",
      "2020\n",
      "1992\t1996\t2000\t2004\t2008\t2012\t2016\t2020\t"
     ]
    }
   ],
   "source": [
    "def is_leap(yr):\n",
    "    if yr%4==0 and yr%100!=0 or yr%400==0:\n",
    "        print(yr,end=\"\\t\")\n",
    "def leap_range(lb,ub):\n",
    "    for i in range(lb,ub+1):\n",
    "        is_leap(i)\n",
    "leap_range(int(input()),int(input()))\n",
    "        "
   ]
  }
 ],
 "metadata": {
  "kernelspec": {
   "display_name": "Python 3",
   "language": "python",
   "name": "python3"
  },
  "language_info": {
   "codemirror_mode": {
    "name": "ipython",
    "version": 3
   },
   "file_extension": ".py",
   "mimetype": "text/x-python",
   "name": "python",
   "nbconvert_exporter": "python",
   "pygments_lexer": "ipython3",
   "version": "3.8.5"
  }
 },
 "nbformat": 4,
 "nbformat_minor": 4
}
