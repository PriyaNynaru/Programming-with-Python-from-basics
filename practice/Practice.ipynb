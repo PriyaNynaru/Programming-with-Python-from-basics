{
 "cells": [
  {
   "cell_type": "markdown",
   "metadata": {},
   "source": [
    "###### Converting decimal to binary and revese printing binary"
   ]
  },
  {
   "cell_type": "code",
   "execution_count": 49,
   "metadata": {},
   "outputs": [
    {
     "name": "stdout",
     "output_type": "stream",
     "text": [
      "12\n",
      "0011\n"
     ]
    }
   ],
   "source": [
    "n=int(input())\n",
    "b=bin(n)\n",
    "print(b[:1:-1])"
   ]
  },
  {
   "cell_type": "code",
   "execution_count": 51,
   "metadata": {},
   "outputs": [
    {
     "name": "stdout",
     "output_type": "stream",
     "text": [
      "0011\n"
     ]
    }
   ],
   "source": [
    "b=format(n,'b')\n",
    "print(b[::-1])"
   ]
  },
  {
   "cell_type": "markdown",
   "metadata": {},
   "source": [
    "###### Reverse the elements of string acc"
   ]
  },
  {
   "cell_type": "code",
   "execution_count": 8,
   "metadata": {},
   "outputs": [
    {
     "name": "stdout",
     "output_type": "stream",
     "text": [
      "['This', 'is', 'a', 'coding', 'question', 'for', 'reversing', 'a', 'string']\n",
      "Tihs is a cnidog qoitseun for rnisreveg a snirtg "
     ]
    }
   ],
   "source": [
    "s=\"This is a coding question for reversing a string\"\n",
    "li=s.split()\n",
    "print(li)\n",
    "for i in li:\n",
    "    if len(i)>3:\n",
    "        print(i[0]+i[1:len(i)-1][::-1]+i[-1],end=\" \")\n",
    "    else:\n",
    "        print(i,end=\" \")"
   ]
  },
  {
   "cell_type": "markdown",
   "metadata": {},
   "source": [
    "###### sum of A.P series and reversing the result"
   ]
  },
  {
   "cell_type": "code",
   "execution_count": 19,
   "metadata": {},
   "outputs": [
    {
     "name": "stdout",
     "output_type": "stream",
     "text": [
      "1\n",
      "5\n",
      "2\n",
      "25\n",
      "52\n"
     ]
    }
   ],
   "source": [
    "a=int(input())  ##(n/2)*(2*a+(n-1)*d)\n",
    "n=int(input())\n",
    "d=int(input())\n",
    "sum=int((n/2)*(2*a+(n-1)*d))\n",
    "print(sum)\n",
    "s=str(sum)\n",
    "print(s[::-1])"
   ]
  },
  {
   "cell_type": "markdown",
   "metadata": {},
   "source": [
    "###### Finding HCF of 2 numbers"
   ]
  },
  {
   "cell_type": "code",
   "execution_count": 5,
   "metadata": {},
   "outputs": [
    {
     "name": "stdout",
     "output_type": "stream",
     "text": [
      "6\n",
      "14\n",
      "HCF is 2\n"
     ]
    }
   ],
   "source": [
    "x,y=int(input()),int(input())\n",
    "if x>y:\n",
    "    s=y\n",
    "else:\n",
    "    s=x\n",
    "for i in range(1,s+1):\n",
    "    if x%i==0 and y%i==0:\n",
    "        hcf=i\n",
    "print(\"HCF is\",hcf)"
   ]
  },
  {
   "cell_type": "markdown",
   "metadata": {},
   "source": [
    "###### sum of array elements up to index range"
   ]
  },
  {
   "cell_type": "code",
   "execution_count": 32,
   "metadata": {},
   "outputs": [
    {
     "name": "stdout",
     "output_type": "stream",
     "text": [
      "7\n",
      "1 2 3 4 5 6 7\n",
      "[1, 2, 3, 4, 5, 6, 7]\n",
      "5\n",
      "15\n"
     ]
    }
   ],
   "source": [
    "n=int(input())\n",
    "a=[int(x) for x in input().split()]\n",
    "print(a)\n",
    "i=int(input())\n",
    "sum=0\n",
    "for j in range(0,i):\n",
    "    sum+=a[j]\n",
    "print(sum)"
   ]
  },
  {
   "cell_type": "markdown",
   "metadata": {},
   "source": [
    "###### Hexadecimal to decimal  conversion"
   ]
  },
  {
   "cell_type": "code",
   "execution_count": 36,
   "metadata": {},
   "outputs": [
    {
     "name": "stdout",
     "output_type": "stream",
     "text": [
      "1b\n",
      "26\n",
      "unequal\n"
     ]
    }
   ],
   "source": [
    "h=input()\n",
    "k=int(input())\n",
    "d=int(h,16)\n",
    "#print(d) ##format(26,'x')\n",
    "if d==k:\n",
    "    print(\"Equal\")\n",
    "else:\n",
    "    print(\"unequal\")"
   ]
  },
  {
   "cell_type": "markdown",
   "metadata": {},
   "source": [
    "###### Inverted hallow pyramid star pattern"
   ]
  },
  {
   "cell_type": "code",
   "execution_count": 64,
   "metadata": {},
   "outputs": [
    {
     "name": "stdout",
     "output_type": "stream",
     "text": [
      "5\n",
      " *********\n",
      "  *     *\n",
      "   *   *\n",
      "    * *\n",
      "     *\n"
     ]
    }
   ],
   "source": [
    "num=int(input())\n",
    "for i in range(1, num+1):\n",
    "    for j in range(0, i):\n",
    "        print(\" \", end=\"\")\n",
    "    for j in range(1, (num*2 - (2*i - 1))+1):\n",
    "        if i == 1 or j == 1 or j ==(num*2 -(2*i-1)):\n",
    "            print(\"*\", end=\"\")\n",
    "        else:\n",
    "            print(\" \", end=\"\")\n",
    "    print()\n"
   ]
  },
  {
   "cell_type": "markdown",
   "metadata": {},
   "source": [
    "###### Square star pattern"
   ]
  },
  {
   "cell_type": "code",
   "execution_count": 46,
   "metadata": {},
   "outputs": [
    {
     "name": "stdout",
     "output_type": "stream",
     "text": [
      "5\n",
      "* * * * * \n",
      "* * * * * \n",
      "* * * * * \n",
      "* * * * * \n",
      "* * * * * \n"
     ]
    }
   ],
   "source": [
    "\n",
    "num=int(input())\n",
    "for i in range(num):\n",
    "    for i in range(num):\n",
    "        print(\"*\",end=\" \")\n",
    "    print()\n",
    "    "
   ]
  },
  {
   "cell_type": "markdown",
   "metadata": {},
   "source": [
    "###### Hallow star pattern"
   ]
  },
  {
   "cell_type": "code",
   "execution_count": 53,
   "metadata": {},
   "outputs": [
    {
     "name": "stdout",
     "output_type": "stream",
     "text": [
      "4\n",
      "* * * * \n",
      "*     * \n",
      "*     * \n",
      "* * * * \n"
     ]
    }
   ],
   "source": [
    "\n",
    "num=int(input())\n",
    "for i in range(num):\n",
    "    for j in range(num):\n",
    "        if i==0 or i==num-1 or j==0 or j==num-1:\n",
    "            print(\"*\",end=\" \")\n",
    "        else:\n",
    "            print(\" \",end=\" \")\n",
    "    print()"
   ]
  },
  {
   "cell_type": "markdown",
   "metadata": {},
   "source": [
    "###### Rhombus star pattern"
   ]
  },
  {
   "cell_type": "code",
   "execution_count": 61,
   "metadata": {},
   "outputs": [
    {
     "name": "stdout",
     "output_type": "stream",
     "text": [
      "5\n",
      "    *****\n",
      "   *****\n",
      "  *****\n",
      " *****\n",
      "*****\n"
     ]
    }
   ],
   "source": [
    "x=int(input())\n",
    "for i in range (1, x + 1): # print the spaces\n",
    "    for j in range (i, x):\n",
    "        print (end=\" \")  #print the stars\n",
    "    for j in range (1, x + 1):\n",
    "        print (end=\"*\")\n",
    "    print (end=\"\\n\")"
   ]
  },
  {
   "cell_type": "markdown",
   "metadata": {},
   "source": [
    "###### Rectangle star pattern"
   ]
  },
  {
   "cell_type": "code",
   "execution_count": 62,
   "metadata": {},
   "outputs": [
    {
     "name": "stdout",
     "output_type": "stream",
     "text": [
      "4\n",
      "5\n",
      "* * * * * \n",
      "* * * * * \n",
      "* * * * * \n",
      "* * * * * \n"
     ]
    }
   ],
   "source": [
    "r,c=int(input()),int(input())\n",
    "for i in range(r):\n",
    "    for j in range(c):\n",
    "        print(\"*\",end=\" \")\n",
    "    print()\n"
   ]
  },
  {
   "cell_type": "markdown",
   "metadata": {},
   "source": [
    "###### Right triangle star pattern"
   ]
  },
  {
   "cell_type": "code",
   "execution_count": 63,
   "metadata": {},
   "outputs": [
    {
     "name": "stdout",
     "output_type": "stream",
     "text": [
      "5\n",
      "* \n",
      "* * \n",
      "* * * \n",
      "* * * * \n",
      "* * * * * \n"
     ]
    }
   ],
   "source": [
    "r=int(input())\n",
    "for i in range(1,r+1):\n",
    "    for j in range(1,i+1):\n",
    "        print(\"*\",end=\" \")\n",
    "    print()"
   ]
  },
  {
   "cell_type": "markdown",
   "metadata": {},
   "source": [
    "###### Hallow pyramid star pattern"
   ]
  },
  {
   "cell_type": "code",
   "execution_count": 66,
   "metadata": {},
   "outputs": [
    {
     "name": "stdout",
     "output_type": "stream",
     "text": [
      "12\n",
      "                        * \n",
      "                      *   * \n",
      "                    *       * \n",
      "                  *           * \n",
      "                *               * \n",
      "              *                   * \n",
      "            *                       * \n",
      "          *                           * \n",
      "        *                               * \n",
      "      *                                   * \n",
      "    *                                       * \n",
      "  * * * * * * * * * * * * * * * * * * * * * * * \n"
     ]
    }
   ],
   "source": [
    "r=int(input())\n",
    "for i in range(r):\n",
    "    for j in range(r-i):\n",
    "        print(\" \",end=\" \")\n",
    "    for j in range(2*i+1):\n",
    "        if j==0 or j==2*i or i==r-1:\n",
    "            print(\"*\",end=\" \")\n",
    "        else:\n",
    "            print(\" \",end=\" \")\n",
    "    print()"
   ]
  },
  {
   "cell_type": "markdown",
   "metadata": {},
   "source": [
    "###### Inverted Half Diamond Star Pattern"
   ]
  },
  {
   "cell_type": "code",
   "execution_count": 68,
   "metadata": {},
   "outputs": [
    {
     "name": "stdout",
     "output_type": "stream",
     "text": [
      "5\n",
      "    *\n",
      "   **\n",
      "  ***\n",
      " ****\n",
      "*****\n",
      " ****\n",
      "  ***\n",
      "   **\n",
      "    *\n"
     ]
    }
   ],
   "source": [
    "num = int(input())\n",
    "for i in range(0, num):\n",
    "    for j in range(0, num-i-1):\n",
    "        print(\" \", end=\"\")\n",
    "    for j in range(0, i+1):\n",
    "        print(\"*\",end=\"\")\n",
    "    print()\n",
    "for i in range(1, num):\n",
    "    for i in range(0, i):\n",
    "        print(\" \", end=\"\")\n",
    "    for j in range(0, num-i-1):\n",
    "        print(\"*\",end=\"\")\n",
    "    print()"
   ]
  },
  {
   "cell_type": "markdown",
   "metadata": {},
   "source": [
    "###### Inverted pyramid star pattern"
   ]
  },
  {
   "cell_type": "code",
   "execution_count": 76,
   "metadata": {},
   "outputs": [
    {
     "name": "stdout",
     "output_type": "stream",
     "text": [
      "Enter the number of rows: 5\n",
      "* * * * *  \n",
      "* * * *  \n",
      "* * *  \n",
      "* *  \n",
      "*  \n",
      " \n"
     ]
    }
   ],
   "source": [
    "r=int(input(\"Enter the number of rows: \"))    \n",
    "for i in range(r+1,0,-1):    \n",
    "    for j in range(0,i-1):  \n",
    "        print(\"*\",end=' ')  \n",
    "    print(\" \")  "
   ]
  },
  {
   "cell_type": "code",
   "execution_count": 2,
   "metadata": {},
   "outputs": [],
   "source": [
    "##### Diamond star pattern"
   ]
  },
  {
   "cell_type": "code",
   "execution_count": 1,
   "metadata": {},
   "outputs": [
    {
     "name": "stdout",
     "output_type": "stream",
     "text": [
      "5\n",
      "    *\n",
      "   ***\n",
      "  *****\n",
      " *******\n",
      "*********\n",
      " *******\n",
      "  *****\n",
      "   ***\n",
      "    *\n"
     ]
    }
   ],
   "source": [
    "rows=int(input())\n",
    "n = 0\n",
    "for i in range(1, rows + 1): # loop to print spaces\n",
    "    for j in range (1, (rows - i) + 1):\n",
    "        print(end = \" \") # loop to print star\n",
    "    while n != (2 * i - 1):\n",
    "        print(\"*\", end = \"\")\n",
    "        n = n + 1\n",
    "    n = 0 # line break\n",
    "    print()\n",
    "k = 1\n",
    "n = 1\n",
    "for i in range(1, rows): # loop to print spaces\n",
    "    for j in range (1, k + 1):\n",
    "        print(end = \" \")\n",
    "    k = k + 1  # loop to print star\n",
    "    while n <= (2 * (rows - i) - 1):\n",
    "        print(\"*\", end = \"\")\n",
    "        n = n + 1\n",
    "    n = 1\n",
    "    print()"
   ]
  },
  {
   "cell_type": "markdown",
   "metadata": {},
   "source": [
    "###### Pyramid star pattern"
   ]
  },
  {
   "cell_type": "code",
   "execution_count": 4,
   "metadata": {},
   "outputs": [
    {
     "name": "stdout",
     "output_type": "stream",
     "text": [
      "5\n",
      "        *   \n",
      "       *  *   \n",
      "      *  *  *   \n",
      "     *  *  *  *   \n",
      "    *  *  *  *  *   \n"
     ]
    }
   ],
   "source": [
    "n = int(input())  \n",
    "m = (2 * n) - 2  \n",
    "for i in range(0, n):  \n",
    "    for j in range(0, m):  \n",
    "        print(end=\" \")  \n",
    "    m = m - 1  # decrementing m after each loop  \n",
    "    for j in range(0, i + 1):   \n",
    "        print(\"* \", end=' ')  \n",
    "    print(\" \")  "
   ]
  },
  {
   "cell_type": "markdown",
   "metadata": {},
   "source": [
    "###### LCM of two numbers"
   ]
  },
  {
   "cell_type": "code",
   "execution_count": 3,
   "metadata": {},
   "outputs": [
    {
     "name": "stdout",
     "output_type": "stream",
     "text": [
      "12\n",
      "10\n",
      "60\n"
     ]
    }
   ],
   "source": [
    "x,y=int(input()),int(input())\n",
    "if x>y:\n",
    "    g=x\n",
    "else:\n",
    "    g=y\n",
    "while(True):\n",
    "    if g%x==0 and g%y==0:\n",
    "        lcm=g\n",
    "        break\n",
    "    g+=1\n",
    "print(g)"
   ]
  },
  {
   "cell_type": "markdown",
   "metadata": {},
   "source": [
    "###### LCM of three numbers"
   ]
  },
  {
   "cell_type": "code",
   "execution_count": 5,
   "metadata": {},
   "outputs": [
    {
     "name": "stdout",
     "output_type": "stream",
     "text": [
      "9\n",
      "12\n",
      "24\n",
      "72\n"
     ]
    }
   ],
   "source": [
    "x,y,z=int(input()),int(input()),int(input())\n",
    "if x>y and x>z:\n",
    "    g=x\n",
    "elif y>z:\n",
    "    g=y\n",
    "else:\n",
    "    g=z\n",
    "while(True):\n",
    "    if g%x==0 and g%y==0 and g%z==0:\n",
    "        lcm=g\n",
    "        break\n",
    "    g+=1\n",
    "print(g)"
   ]
  },
  {
   "cell_type": "markdown",
   "metadata": {},
   "source": [
    "###### Removal of vowels strings "
   ]
  },
  {
   "cell_type": "code",
   "execution_count": 7,
   "metadata": {},
   "outputs": [
    {
     "name": "stdout",
     "output_type": "stream",
     "text": [
      "I Love PrOgrammIng\n",
      " Lv Prgrmmng\n"
     ]
    }
   ],
   "source": [
    "s=input()\n",
    "s=s.replace(\"a\",\"\")\n",
    "s=s.replace(\"e\",\"\")\n",
    "s=s.replace(\"i\",\"\")\n",
    "s=s.replace(\"o\",\"\")\n",
    "s=s.replace(\"u\",\"\")\n",
    "s=s.replace(\"A\",\"\")\n",
    "s=s.replace(\"E\",\"\")\n",
    "s=s.replace(\"I\",\"\")\n",
    "s=s.replace(\"O\",\"\")\n",
    "s=s.replace(\"U\",\"\")\n",
    "print(s)"
   ]
  },
  {
   "cell_type": "code",
   "execution_count": 9,
   "metadata": {},
   "outputs": [
    {
     "name": "stdout",
     "output_type": "stream",
     "text": [
      "iloveprogramming\n",
      "lvprgrmmng\n"
     ]
    }
   ],
   "source": [
    "s=input()\n",
    "for i in \"aeiouAEIOU\":\n",
    "    s=s.replace(i,\"\")\n",
    "print(s)"
   ]
  },
  {
   "cell_type": "markdown",
   "metadata": {},
   "source": [
    "###### Insertion sort"
   ]
  },
  {
   "cell_type": "code",
   "execution_count": 27,
   "metadata": {},
   "outputs": [
    {
     "name": "stdout",
     "output_type": "stream",
     "text": [
      "9 5 1 4 3\n",
      "1\n",
      "3\n",
      "4\n",
      "5\n",
      "9\n"
     ]
    }
   ],
   "source": [
    "li=list(map(int,input().split()))\n",
    "for i in range(1,len(li)):\n",
    "    k=li[i]\n",
    "    j=i-1\n",
    "    while j>=0 and k<li[j]:\n",
    "        li[j+1]=li[j]\n",
    "        j-=1\n",
    "    li[j+1]=k\n",
    "for i in range(len(li)):\n",
    "    print(li[i])"
   ]
  },
  {
   "cell_type": "markdown",
   "metadata": {},
   "source": [
    "###### Pascal Triangle"
   ]
  },
  {
   "cell_type": "code",
   "execution_count": 14,
   "metadata": {},
   "outputs": [
    {
     "name": "stdout",
     "output_type": "stream",
     "text": [
      "5\n",
      "      1 \n",
      "     1 1 \n",
      "    1 2 1 \n",
      "   1 3 3 1 \n",
      "  1 4 6 4 1 \n"
     ]
    }
   ],
   "source": [
    "from math import factorial\n",
    "n=int(input())\n",
    "for i in range(n):\n",
    "    for j in range(n-i+1):\n",
    "        print(end=\" \")\n",
    "    for j in range(i+1):\n",
    "        print(factorial(i)//(factorial(j)*factorial(i-j)),end=\" \")\n",
    "    print()"
   ]
  },
  {
   "cell_type": "code",
   "execution_count": 28,
   "metadata": {},
   "outputs": [
    {
     "name": "stdout",
     "output_type": "stream",
     "text": [
      "insertion sort\n",
      "tros noitresni\n"
     ]
    }
   ],
   "source": [
    "s=input()\n",
    "s1=s[::-1]\n",
    "print(s1)"
   ]
  },
  {
   "cell_type": "markdown",
   "metadata": {},
   "source": [
    "###### Check if value present in array"
   ]
  },
  {
   "cell_type": "code",
   "execution_count": 31,
   "metadata": {},
   "outputs": [
    {
     "name": "stdout",
     "output_type": "stream",
     "text": [
      "1 2 78 67 65\n",
      "78\n",
      "78 is not present\n",
      "78 is present\n"
     ]
    },
    {
     "ename": "IndexError",
     "evalue": "list index out of range",
     "output_type": "error",
     "traceback": [
      "\u001b[1;31m---------------------------------------------------------------------------\u001b[0m",
      "\u001b[1;31mIndexError\u001b[0m                                Traceback (most recent call last)",
      "\u001b[1;32m<ipython-input-31-d65ba9ed4914>\u001b[0m in \u001b[0;36m<module>\u001b[1;34m\u001b[0m\n\u001b[0;32m      3\u001b[0m \u001b[0mi\u001b[0m\u001b[1;33m=\u001b[0m\u001b[1;36m0\u001b[0m\u001b[1;33m\u001b[0m\u001b[1;33m\u001b[0m\u001b[0m\n\u001b[0;32m      4\u001b[0m \u001b[1;32mfor\u001b[0m \u001b[0mi\u001b[0m \u001b[1;32min\u001b[0m \u001b[0mli\u001b[0m\u001b[1;33m:\u001b[0m\u001b[1;33m\u001b[0m\u001b[1;33m\u001b[0m\u001b[0m\n\u001b[1;32m----> 5\u001b[1;33m     \u001b[1;32mif\u001b[0m \u001b[0mli\u001b[0m\u001b[1;33m[\u001b[0m\u001b[0mi\u001b[0m\u001b[1;33m]\u001b[0m\u001b[1;33m==\u001b[0m\u001b[0mvalue\u001b[0m\u001b[1;33m:\u001b[0m\u001b[1;33m\u001b[0m\u001b[1;33m\u001b[0m\u001b[0m\n\u001b[0m\u001b[0;32m      6\u001b[0m         \u001b[0mprint\u001b[0m\u001b[1;33m(\u001b[0m\u001b[0mvalue\u001b[0m\u001b[1;33m,\u001b[0m\u001b[1;34m\"is present\"\u001b[0m\u001b[1;33m)\u001b[0m\u001b[1;33m\u001b[0m\u001b[1;33m\u001b[0m\u001b[0m\n\u001b[0;32m      7\u001b[0m     \u001b[1;32melse\u001b[0m\u001b[1;33m:\u001b[0m\u001b[1;33m\u001b[0m\u001b[1;33m\u001b[0m\u001b[0m\n",
      "\u001b[1;31mIndexError\u001b[0m: list index out of range"
     ]
    }
   ],
   "source": [
    "li=list(map(int,input().split()))\n",
    "value=int(input())\n",
    "for i in li:\n",
    "    if li[i]==value:\n",
    "        print(value,\"is present\")\n",
    "    else:\n",
    "        print(value,\"is not present\")"
   ]
  },
  {
   "cell_type": "code",
   "execution_count": null,
   "metadata": {},
   "outputs": [],
   "source": []
  }
 ],
 "metadata": {
  "kernelspec": {
   "display_name": "Python 3",
   "language": "python",
   "name": "python3"
  },
  "language_info": {
   "codemirror_mode": {
    "name": "ipython",
    "version": 3
   },
   "file_extension": ".py",
   "mimetype": "text/x-python",
   "name": "python",
   "nbconvert_exporter": "python",
   "pygments_lexer": "ipython3",
   "version": "3.8.5"
  }
 },
 "nbformat": 4,
 "nbformat_minor": 4
}
