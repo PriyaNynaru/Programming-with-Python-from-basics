{
 "cells": [
  {
   "cell_type": "markdown",
   "metadata": {},
   "source": [
    "### Day 9\n",
    "#### str.endswith() & str.startswith()\n",
    "1. The endswith() method returns True if the string ends with the specified value, otherwise False.\n",
    "2. The startswith() method returns True if the string starts with the specified value, otherwise False."
   ]
  },
  {
   "cell_type": "code",
   "execution_count": 7,
   "metadata": {},
   "outputs": [
    {
     "name": "stdout",
     "output_type": "stream",
     "text": [
      "False\n",
      "True\n",
      "False\n",
      "True\n"
     ]
    }
   ],
   "source": [
    "s=\"python\"\n",
    "print(s.endswith('s'))\n",
    "print(s.endswith('n'))\n",
    "print(s.startswith('s'))\n",
    "print(s.startswith('p'))"
   ]
  },
  {
   "cell_type": "markdown",
   "metadata": {},
   "source": [
    "#### str.expandtabs()\n",
    "1. Method sets the tab size to the specified number of whitespaces.\n",
    "2. A number specifying the tabsize. Default tabsize is 8"
   ]
  },
  {
   "cell_type": "code",
   "execution_count": 15,
   "metadata": {},
   "outputs": [
    {
     "name": "stdout",
     "output_type": "stream",
     "text": [
      "xyz     12345   abc     abcd\n",
      "xyz 12345   abc abcd\n",
      "xyz       12345     abc       abcd\n"
     ]
    }
   ],
   "source": [
    "s=\"xyz\\t12345\\tabc\\tabcd\"\n",
    "print(s.expandtabs())  #default 8 spaces\n",
    "print(s.expandtabs(4)) #4 spaces 4,8,12....\n",
    "print(s.expandtabs(10))"
   ]
  },
  {
   "cell_type": "markdown",
   "metadata": {},
   "source": [
    "#### str.find() & str.rfind()\n",
    "1. find() method find first occurence of specified value\n",
    "2. The rfind() method finds the last occurrence of the specified value.\n",
    "3. syntax: string.rfind(value, start, end)\n",
    "4. value -> Required. The value to search for\n",
    "5. start -> Optional. Where to start the search. Default is 0\n",
    "6. end -> Optional. Where to end the search. Default is to the end of the string"
   ]
  },
  {
   "cell_type": "code",
   "execution_count": 32,
   "metadata": {},
   "outputs": [
    {
     "name": "stdout",
     "output_type": "stream",
     "text": [
      "10\n",
      "10\n",
      "5\n"
     ]
    }
   ],
   "source": [
    "s=\"python workshop\"\n",
    "print(s.find('k'))   #if element not present returns -1\n",
    "print(s.rfind('k'))  #if element not present returns -1\n",
    "x = s.rfind(\"n\", 5, 10)\n",
    "print(x)"
   ]
  },
  {
   "cell_type": "markdown",
   "metadata": {},
   "source": [
    "#### str.index() & str.rindex()\n",
    "1. index() method find first occurence of specified value\n",
    "2. The rindvalue\tRequired. The value to search for\n",
    "3. string.rindex(value, start, end)\n",
    "4. value -> Required. The value to search for\n",
    "5. start -> Optional. Where to start the search. Default is 0\n",
    "6. end -> Optional. Where to end the search. Default is to the end of the string"
   ]
  },
  {
   "cell_type": "code",
   "execution_count": 31,
   "metadata": {},
   "outputs": [
    {
     "name": "stdout",
     "output_type": "stream",
     "text": [
      "3\n",
      "3\n",
      "13\n"
     ]
    }
   ],
   "source": [
    "print(s.index('h'))   #if element not present rgives an error\n",
    "print(s.rindex('h'))\n",
    "x = s.rindex('n',5,15) #if element not present rgives an error\n",
    "print(x)"
   ]
  },
  {
   "cell_type": "markdown",
   "metadata": {},
   "source": [
    "#### str.format()\n",
    "1. The format() method formats the specified value(s) and insert them inside the string's placeholder.\n",
    "2. The placeholder is defined using curly brackets: {}.\n",
    "3. The format() method returns the formatted string."
   ]
  },
  {
   "cell_type": "code",
   "execution_count": 4,
   "metadata": {},
   "outputs": [
    {
     "name": "stdout",
     "output_type": "stream",
     "text": [
      "my name is priya\n"
     ]
    }
   ],
   "source": [
    "s=\"my name is {name}\".format(name=\"priya\")\n",
    "print(s)"
   ]
  },
  {
   "cell_type": "markdown",
   "metadata": {},
   "source": [
    "#### str.capitalize() & str.title()\n",
    "1. The capitalize() method returns a string where the first character is upper case.\n",
    "2. The title() method returns a string where the first character in every word is upper case"
   ]
  },
  {
   "cell_type": "code",
   "execution_count": 28,
   "metadata": {},
   "outputs": [
    {
     "name": "stdout",
     "output_type": "stream",
     "text": [
      "Python workshop\n",
      "Python Workshop\n"
     ]
    }
   ],
   "source": [
    "print(s.capitalize())\n",
    "print(s.title())"
   ]
  },
  {
   "cell_type": "markdown",
   "metadata": {},
   "source": [
    "\n",
    "#### str.lower()\n",
    "1. The lower() method returns a string where all characters are lower case.\n",
    "#### str.upper()\n",
    "1. The upper() method returns a string where all characters are in upper case.\n",
    "2. Symbols and Numbers are ignored.\n",
    "#### str.swapcase()\n",
    "1. The swapcase() method returns a string where all the upper case letters are lower case and vice versa."
   ]
  },
  {
   "cell_type": "code",
   "execution_count": 41,
   "metadata": {},
   "outputs": [
    {
     "name": "stdout",
     "output_type": "stream",
     "text": [
      "PYTHON TRAINING\n",
      "python training\n",
      "PYTHON trAININg\n"
     ]
    }
   ],
   "source": [
    "s=\"python TRaininG\"\n",
    "print(s.upper())\n",
    "print(s.lower())\n",
    "print(s.swapcase())"
   ]
  },
  {
   "cell_type": "markdown",
   "metadata": {},
   "source": [
    "#### str.isalpha()\n",
    "1. The isalpha() method returns True if all the characters are alphabet letters (a-z)\n",
    "#### str.isdigit()\n",
    "1. The isdigit() method returns True if all the characters are digits, otherwise False.\n",
    "2. Exponents, like ², are also considered to be a digit.\n",
    "#### str.isalnum()\n",
    "1. The isalnum() method returns True if all the characters are alphanumeric, meaning alphabet letter (a-z) and numbers (0-9).\n",
    "2. Example of characters that are not alphanumeric: (space)!#%&? etc."
   ]
  },
  {
   "cell_type": "code",
   "execution_count": 52,
   "metadata": {},
   "outputs": [
    {
     "name": "stdout",
     "output_type": "stream",
     "text": [
      "False\n",
      "True\n",
      "True\n",
      "abcd@123\n",
      "False\n"
     ]
    }
   ],
   "source": [
    "print(s.isalpha())\n",
    "a=\"12345\"\n",
    "print(a.isdigit())\n",
    "b=\"123abcd\"\n",
    "print(b.isalnum())\n",
    "print(input().isalnum())"
   ]
  },
  {
   "cell_type": "markdown",
   "metadata": {},
   "source": [
    "#### str.islower()\n",
    "1. The islower() method returns True if all the characters are in lower case, otherwise False.\n",
    "2. Numbers, symbols and spaces are not checked, only alphabet characters.\n",
    "#### str.isupper()\n",
    "1. The isupper() method returns True if all the characters are in upper case, otherwise False."
   ]
  },
  {
   "cell_type": "code",
   "execution_count": 54,
   "metadata": {},
   "outputs": [
    {
     "name": "stdout",
     "output_type": "stream",
     "text": [
      "abcdE\n",
      "False\n",
      "ABCD\n",
      "True\n"
     ]
    }
   ],
   "source": [
    "print(input().islower())\n",
    "print(input().isupper())"
   ]
  },
  {
   "cell_type": "markdown",
   "metadata": {},
   "source": [
    "#### str.ispace()\n",
    "1. The isspace() method returns True if all the characters in a string are whitespaces, otherwise False."
   ]
  },
  {
   "cell_type": "code",
   "execution_count": 2,
   "metadata": {},
   "outputs": [
    {
     "name": "stdout",
     "output_type": "stream",
     "text": [
      "True\n",
      "False\n"
     ]
    }
   ],
   "source": [
    "d=\" \"\n",
    "d1=\"\"\n",
    "print(d.isspace())\n",
    "print(d1.isspace())"
   ]
  },
  {
   "cell_type": "markdown",
   "metadata": {},
   "source": [
    "#### str.strip()\n",
    "1. The strip() method removes any leading (spaces at the beginning) and trailing (spaces at the end) characters (space is the default leading character to remove)\n",
    "2. syntax: string.strip(characters)\n",
    "3. character -> Optional. A set of characters to remove as leading/trailing characters\n",
    "#### str.rsstrip()\n",
    "1. The rstrip() method removes any trailing characters (characters at the end a string), space is the default trailing character to remove.\n",
    "2. syntax: string.rstrip(characters)\n",
    "3. characters -> Optional. A set of characters to remove as trailing characters\n",
    "#### str.lsstrip()\n",
    "1. The lstrip() method removes any leading characters (space is the default leading character to remove)\n",
    "2. syntax: string.lstrip(characters)\n",
    "3. characters -> Optional. A set of characters to remove as leading characters"
   ]
  },
  {
   "cell_type": "code",
   "execution_count": 3,
   "metadata": {},
   "outputs": [
    {
     "name": "stdout",
     "output_type": "stream",
     "text": [
      "priya\n",
      "   priya\n",
      "priya   \n"
     ]
    }
   ],
   "source": [
    "s=\"   priya   \"\n",
    "print(s.strip())\n",
    "print(s.rstrip())\n",
    "print(s.lstrip())"
   ]
  },
  {
   "cell_type": "markdown",
   "metadata": {},
   "source": [
    "#### str.split()\n",
    "1. The split() method splits a string into a list.\n",
    "2. You can specify the separator, default separator is any whitespace.\n",
    "3. syntax: string.split(separator, maxsplit)\n",
    "4. separator -> Optional. Specifies the separator to use when splitting the string. By default any whitespace is a separator\n",
    "5. maxsplit -> Optional. Specifies how many splits to do. Default value is -1, which is \"all occurrences\""
   ]
  },
  {
   "cell_type": "code",
   "execution_count": 6,
   "metadata": {},
   "outputs": [
    {
     "name": "stdout",
     "output_type": "stream",
     "text": [
      "['aps%sdc', 'wor@kshop']\n",
      "['aps%sdc wor', 'kshop']\n",
      "['aps', 'sdc wor@kshop']\n"
     ]
    }
   ],
   "source": [
    "s=\"aps%sdc wor@kshop\"\n",
    "print(s.split())\n",
    "print(s.split('@',10))\n",
    "print(s.split('%'))"
   ]
  },
  {
   "cell_type": "markdown",
   "metadata": {},
   "source": [
    "#### str.partition()\n",
    "1. The partition() method searches for a specified string, and splits the string into a tuple containing three elements.\n",
    "2. The first element contains the part before the specified string.\n",
    "3. The second element contains the specified string.\n",
    "4. The third element contains the part after the string.\n",
    "5. syntax: string.partition(value)\n",
    "#### str.rpartition()\n",
    "1. The rpartition() method searches for the last occurrence of a specified string, and splits the string into a tuple containing three elements."
   ]
  },
  {
   "cell_type": "code",
   "execution_count": 12,
   "metadata": {},
   "outputs": [
    {
     "name": "stdout",
     "output_type": "stream",
     "text": [
      "('I could eat ', 'bananas', ' all day')\n",
      "('I could eat bananas all day, ', 'bananas', ' are my favorite fruit')\n"
     ]
    }
   ],
   "source": [
    "txt = \"I could eat bananas all day\"\n",
    "x = txt.partition(\"bananas\")\n",
    "print(x)\n",
    "txt1 = \"I could eat bananas all day, bananas are my favorite fruit\"\n",
    "x = txt1.rpartition(\"bananas\")\n",
    "print(x)"
   ]
  },
  {
   "cell_type": "markdown",
   "metadata": {},
   "source": [
    "#### str.replace()\n",
    "1. The replace() method replaces a specified phrase with another specified phrase.\n",
    "2. syntax: string.replace(oldvalue, newvalue, count)\n",
    "3. oldvalue -> Required. The string to search for\n",
    "4. newvalue -> Required. The string to replace the old value with\n",
    "5. count -> Optional. A number specifying how many occurrences of the old value you want to replace. Default is all occurrences"
   ]
  },
  {
   "cell_type": "code",
   "execution_count": 20,
   "metadata": {},
   "outputs": [
    {
     "name": "stdout",
     "output_type": "stream",
     "text": [
      "toy and game and toy\n",
      "toy and game and work\n"
     ]
    }
   ],
   "source": [
    "d=\"work and game and work\"\n",
    "print(d.replace(\"work\",\"toy\"))\n",
    "print(d.replace(\"work\",\"toy\",1))"
   ]
  },
  {
   "cell_type": "markdown",
   "metadata": {},
   "source": [
    "#### str.splitlines()\n",
    "1. The splitlines() method splits a string into a list. The splitting is done at line breaks.\n",
    "2. syntax: string.splitlines(keeplinebreaks)\n",
    "3. keeplinebreaks -> Optional. Specifies if the line breaks should be included (True), or not (False). Default value is False"
   ]
  },
  {
   "cell_type": "code",
   "execution_count": 21,
   "metadata": {},
   "outputs": [
    {
     "name": "stdout",
     "output_type": "stream",
     "text": [
      "python online\n",
      "training\n",
      "['python online', 'training']\n"
     ]
    }
   ],
   "source": [
    "s=\"python online\\ntraining\"\n",
    "print(s)\n",
    "print(s.splitlines())"
   ]
  },
  {
   "cell_type": "markdown",
   "metadata": {},
   "source": [
    "#### \"myseperator\".join(str)"
   ]
  },
  {
   "cell_type": "code",
   "execution_count": null,
   "metadata": {},
   "outputs": [],
   "source": [
    "g=\"p\",\"r\",\"i\",\"y\",\"a\"\n",
    "print(\"\".join(g))\n",
    "print(\"@\".join(g))\n",
    "print(\"$\".join(g))\n",
    "print(\" \".join(g))"
   ]
  },
  {
   "cell_type": "markdown",
   "metadata": {},
   "source": [
    "#### str.zfill()\n",
    "1. The zfill() method adds zeros (0) at the beginning of the string, until it reaches the specified length.\n",
    "2. If the value of the len parameter is less than the length of the string, no filling is done.\n",
    "3. syntax: string.zfill(len)\n",
    "4. len\t-> Required. A number specifying the desired length of the string"
   ]
  },
  {
   "cell_type": "code",
   "execution_count": 27,
   "metadata": {},
   "outputs": [
    {
     "name": "stdout",
     "output_type": "stream",
     "text": [
      "00000hello\n"
     ]
    }
   ],
   "source": [
    "t=\"hello\"\n",
    "print(t.zfill(10))"
   ]
  },
  {
   "cell_type": "code",
   "execution_count": 28,
   "metadata": {},
   "outputs": [
    {
     "name": "stdout",
     "output_type": "stream",
     "text": [
      "65\n",
      "97\n"
     ]
    }
   ],
   "source": [
    "print(ord('A'))\n",
    "print(ord('a'))"
   ]
  },
  {
   "cell_type": "markdown",
   "metadata": {},
   "source": [
    "- write a program\n",
    "1. input: \"A P S S D C\"\n",
    "   output: \"APSSDC\"\n",
    "2. input: \"Nynaru krishnapriya\"\n",
    "   output: \"N. Krishnapriya\"\n",
    "3. input: \"Apssdc Ambika Anu Pavani\" print which don't ends with vowels(a,e,i,o,u)\n",
    "4. input: \"Apssdc@123$\"\n",
    "   output: alphabets:6\n",
    "           digits:3\n",
    "           special:2\n",
    "5. Input: \"APSSDC\"(65,80,83,83,68,67)- even ascii\n",
    "   output: PD"
   ]
  },
  {
   "cell_type": "code",
   "execution_count": 30,
   "metadata": {},
   "outputs": [
    {
     "name": "stdout",
     "output_type": "stream",
     "text": [
      "65\n",
      "66\n",
      "67\n",
      "68\n"
     ]
    }
   ],
   "source": [
    "a=\"ABCD\"\n",
    "for c in a:\n",
    "    print(ord(c))"
   ]
  },
  {
   "cell_type": "code",
   "execution_count": 32,
   "metadata": {},
   "outputs": [
    {
     "name": "stdout",
     "output_type": "stream",
     "text": [
      " <class 'str'>\n"
     ]
    }
   ],
   "source": [
    "## empty string\n",
    "s=\"\"\n",
    "print(s,type(s))"
   ]
  },
  {
   "cell_type": "markdown",
   "metadata": {},
   "source": [
    "### Python Datastructures\n",
    "- Datastructures are a way of organizing and storing data\n",
    "- So that can be accessed and worked with efficiently and easily\n",
    "- There are 4 types of datastructures in python\n",
    "    - list\n",
    "    - tuple\n",
    "    - dictionary\n",
    "    - sets"
   ]
  },
  {
   "cell_type": "markdown",
   "metadata": {},
   "source": [
    "### list\n",
    "- It holds a collection of items which is ordered and changable it stores heterogeneous elements.\n",
    "- List is mutable\n",
    "- List supports duplicates\n",
    "- List defined using [ ] and seperated using commas\n",
    "- List supports both numerics and string data"
   ]
  },
  {
   "cell_type": "code",
   "execution_count": 33,
   "metadata": {},
   "outputs": [
    {
     "name": "stdout",
     "output_type": "stream",
     "text": [
      "[] <class 'list'>\n"
     ]
    }
   ],
   "source": [
    "## Empty list\n",
    "l=[]\n",
    "print(l,type(l))"
   ]
  },
  {
   "cell_type": "code",
   "execution_count": 35,
   "metadata": {},
   "outputs": [
    {
     "name": "stdout",
     "output_type": "stream",
     "text": [
      "[12, 1, 2, 19, 10, 'abc', '123'] <class 'list'>\n"
     ]
    }
   ],
   "source": [
    "li=[12,1,2,19,10,'abc','123']\n",
    "print(li,type(li))"
   ]
  },
  {
   "cell_type": "code",
   "execution_count": 38,
   "metadata": {},
   "outputs": [
    {
     "name": "stdout",
     "output_type": "stream",
     "text": [
      "<class 'list'>\n",
      "0\n",
      "100\n",
      "238\n",
      "7\n",
      "[0, 1, 12, 13, 45, 67, 100]\n",
      "[100, 67, 45, 13, 12, 1, 0]\n"
     ]
    }
   ],
   "source": [
    "##builtin functions\n",
    " "
   ]
  },
  {
   "cell_type": "code",
   "execution_count": 40,
   "metadata": {
    "scrolled": true
   },
   "outputs": [
    {
     "name": "stdout",
     "output_type": "stream",
     "text": [
      "<class 'list'>\n",
      "a\n",
      "y\n",
      "5\n",
      "['a', 'i', 'p', 'r', 'y']\n",
      "['y', 'r', 'p', 'i', 'a']\n"
     ]
    },
    {
     "ename": "TypeError",
     "evalue": "unsupported operand type(s) for +: 'int' and 'str'",
     "output_type": "error",
     "traceback": [
      "\u001b[1;31m---------------------------------------------------------------------------\u001b[0m",
      "\u001b[1;31mTypeError\u001b[0m                                 Traceback (most recent call last)",
      "\u001b[1;32m<ipython-input-40-ff90cd02933d>\u001b[0m in \u001b[0;36m<module>\u001b[1;34m\u001b[0m\n\u001b[0;32m      6\u001b[0m \u001b[0mprint\u001b[0m\u001b[1;33m(\u001b[0m\u001b[0msorted\u001b[0m\u001b[1;33m(\u001b[0m\u001b[0mli\u001b[0m\u001b[1;33m)\u001b[0m\u001b[1;33m)\u001b[0m\u001b[1;33m\u001b[0m\u001b[1;33m\u001b[0m\u001b[0m\n\u001b[0;32m      7\u001b[0m \u001b[0mprint\u001b[0m\u001b[1;33m(\u001b[0m\u001b[0msorted\u001b[0m\u001b[1;33m(\u001b[0m\u001b[0mli\u001b[0m\u001b[1;33m,\u001b[0m\u001b[0mreverse\u001b[0m\u001b[1;33m=\u001b[0m\u001b[1;32mTrue\u001b[0m\u001b[1;33m)\u001b[0m\u001b[1;33m)\u001b[0m\u001b[1;33m\u001b[0m\u001b[1;33m\u001b[0m\u001b[0m\n\u001b[1;32m----> 8\u001b[1;33m \u001b[0mprint\u001b[0m\u001b[1;33m(\u001b[0m\u001b[0msum\u001b[0m\u001b[1;33m(\u001b[0m\u001b[0mli\u001b[0m\u001b[1;33m)\u001b[0m\u001b[1;33m)\u001b[0m\u001b[1;33m\u001b[0m\u001b[1;33m\u001b[0m\u001b[0m\n\u001b[0m",
      "\u001b[1;31mTypeError\u001b[0m: unsupported operand type(s) for +: 'int' and 'str'"
     ]
    }
   ],
   "source": [
    "li=['p','r','i','y','a']\n",
    "print(type(li))\n",
    "print(min(li))\n",
    "print(max(li))\n",
    "print(len(li))\n",
    "print(sorted(li))\n",
    "print(sorted(li,reverse=True))\n",
    "print(sum(li))"
   ]
  },
  {
   "cell_type": "markdown",
   "metadata": {},
   "source": [
    "### all,any,enumerate,zip\n",
    "#### all\n",
    "1. The all() function returns True if all items in an iterable are true, otherwise it returns False.\n",
    "2. If the iterable object is empty, the all() function also returns True.\n",
    "3. syntax: all(iterable)\n",
    "4. iterable -> An iterable object (list, tuple, dictionary)\n",
    "\n",
    "#### any\n",
    "1. The any() function returns True if any item in an iterable are true, otherwise it returns False.\n",
    "2. If the iterable object is empty, the any() function will return False.\n",
    "3. syntax: all(iterable)\n",
    "\n",
    "#### enumerate\n",
    "1. The enumerate() function takes a collection (e.g. a tuple) and returns it as an enumerate object.\n",
    "2. The enumerate() function adds a counter as the key of the enumerate object.\n",
    "3. syntax: enumerate(iterable, start)\n",
    "4. iterable\t-> An iterable object\n",
    "5. start -> A Number. Defining the start number of the enumerate object. Default 0\n",
    "\n",
    "#### zip\n",
    "1. The zip() function returns a zip object, which is an iterator of tuples where the first item in each passed iterator is paired together, and then the second item in each passed iterator are paired together etc.\n",
    "2. If the passed iterators have different lengths, the iterator with the least items decides the length of the new iterator.\n",
    "3. syntax: zip(iterator1, iterator2, iterator3 ...)\n",
    "4. iterator1, iterator2, iterator3 ...\t-> Iterator objects that will be joined together"
   ]
  },
  {
   "cell_type": "code",
   "execution_count": 49,
   "metadata": {},
   "outputs": [
    {
     "name": "stdout",
     "output_type": "stream",
     "text": [
      "True\n",
      "True\n",
      "True\n",
      "False\n",
      "True\n",
      "True\n",
      "[]\n",
      "[(0, 'priya'), (1, 'vishnu'), (2, 'neeraja'), (3, 'aruna'), (4, 97), (5, 'python'), (6, 'work')]\n",
      "[(0, 10), (1, 20), (2, 30), (3, 40), (4, 50), (5, 60), (6, 70)]\n",
      "[('priya', 10), ('vishnu', 20), ('neeraja', 30), ('aruna', 40), (97, 50), ('python', 60), ('work', 70)]\n",
      "[]\n"
     ]
    }
   ],
   "source": [
    "#all\n",
    "number=[]\n",
    "name=['priya','vishnu','neeraja','aruna',97,'python','work']\n",
    "rollno=[10,20,30,40,50,60,70]\n",
    "print(all(number))\n",
    "print(all(name))\n",
    "print(all(rollno))\n",
    "#any\n",
    "print(any(number))\n",
    "print(any(name))\n",
    "print(any(rollno))\n",
    "#enumerate\n",
    "print(list(enumerate(number)))\n",
    "print(list(enumerate(name)))\n",
    "print(list(enumerate(rollno)))\n",
    "#zip\n",
    "print(list(zip(name,rollno)))\n",
    "print(list(zip(number,rollno)))"
   ]
  },
  {
   "cell_type": "markdown",
   "metadata": {},
   "source": [
    "- write a program\n",
    "1. input: \"A P S S D C\" output: \"APSSDC\"\n",
    "2. input: \"Nynaru krishnapriya\" output: \"N. Krishnapriya\"\n",
    "3. input: \"Apssdc Ambika Anu Pavani\" print which don't ends with vowels(a,e,i,o,u)\n",
    "4. input: \"Apssdc@123$\" output: alphabets:6\n",
    "    digits:3\n",
    "    special:2\n",
    "5. Input: \"APSSDC\"(65,80,83,83,68,67)- even ascii output: PD"
   ]
  },
  {
   "cell_type": "code",
   "execution_count": 8,
   "metadata": {},
   "outputs": [
    {
     "name": "stdout",
     "output_type": "stream",
     "text": [
      "A P S S D C\n",
      "['A', 'P', 'S', 'S', 'D', 'C']\n",
      "APSSDC\n",
      "Apssdc\n"
     ]
    }
   ],
   "source": [
    "#task1\n",
    "#A P S S D C\n",
    "s=input()\n",
    "a=s.split()\n",
    "print(a)\n",
    "b=\"\".join(a)\n",
    "print(b)\n",
    "c=b.capitalize()\n",
    "print(c)"
   ]
  },
  {
   "cell_type": "code",
   "execution_count": 21,
   "metadata": {},
   "outputs": [
    {
     "name": "stdout",
     "output_type": "stream",
     "text": [
      "nynaru krishna priya\n",
      "N.Krishna priya\n"
     ]
    }
   ],
   "source": [
    "#task2 \"Nynaru krishnapriya\" -> \"N. Krishnapriya\"\n",
    "t=input()\n",
    "l,f,g=t.split() #print(l)#print(f)\n",
    "l1=l[0].capitalize()\n",
    "f1=f.capitalize() #print(f1)\n",
    "print(l1+'.'+f1+' '+g)"
   ]
  },
  {
   "cell_type": "code",
   "execution_count": 18,
   "metadata": {},
   "outputs": [
    {
     "name": "stdout",
     "output_type": "stream",
     "text": [
      "Nynaru krishnapriya\n",
      "N. Krishnapriya\n"
     ]
    }
   ],
   "source": [
    "x=input()\n",
    "b=x.title()\n",
    "c=b.rfind(' ')\n",
    "print(b[0]+'.'+b[c::])"
   ]
  },
  {
   "cell_type": "code",
   "execution_count": 5,
   "metadata": {},
   "outputs": [
    {
     "name": "stdout",
     "output_type": "stream",
     "text": [
      "APSSDC@12345\n",
      "Alphabets count: 6\n",
      "Digits count: 5\n",
      "Special characters count: 1\n"
     ]
    }
   ],
   "source": [
    "##task3\n",
    "def count(s1):\n",
    "    a=n=s=0\n",
    "    for i in s1:\n",
    "        if (i.isalpha()):\n",
    "            a+=1\n",
    "        elif (i.isdigit()):\n",
    "             n=n+1\n",
    "        elif (i.isspace()==False):  ##space is not a special character\n",
    "            s=s+1\n",
    "    print(\"Alphabets count:\",a)\n",
    "    print(\"Digits count:\",n)\n",
    "    print(\"Special characters count:\",s)\n",
    "count(input())"
   ]
  },
  {
   "cell_type": "code",
   "execution_count": 4,
   "metadata": {},
   "outputs": [
    {
     "name": "stdout",
     "output_type": "stream",
     "text": [
      "abvd iuhuaWA \n",
      "abvd "
     ]
    }
   ],
   "source": [
    "##task4\n",
    "d=input()\n",
    "vowels=('a','e','i','o','u','A','E','I','O','U')\n",
    "for i in d.split():\n",
    "    if i.endswith(vowels):\n",
    "        pass\n",
    "    else:\n",
    "        print(i,end=\" \")"
   ]
  },
  {
   "cell_type": "code",
   "execution_count": 2,
   "metadata": {},
   "outputs": [
    {
     "name": "stdout",
     "output_type": "stream",
     "text": [
      "logfry\n",
      "l f r "
     ]
    }
   ],
   "source": [
    "##task5 print letters with even ascii value\n",
    "s=input()\n",
    "for i in s:\n",
    "    if ord(i)%2==0:\n",
    "        print(i,end=\" \")"
   ]
  },
  {
   "cell_type": "code",
   "execution_count": 3,
   "metadata": {},
   "outputs": [
    {
     "name": "stdout",
     "output_type": "stream",
     "text": [
      "krishna\n",
      "107\n",
      "114\n",
      "105\n",
      "115\n",
      "104\n",
      "110\n",
      "97\n"
     ]
    }
   ],
   "source": [
    "s=input()\n",
    "for i in s:\n",
    "    print(ord(i))"
   ]
  }
 ],
 "metadata": {
  "kernelspec": {
   "display_name": "Python 3",
   "language": "python",
   "name": "python3"
  },
  "language_info": {
   "codemirror_mode": {
    "name": "ipython",
    "version": 3
   },
   "file_extension": ".py",
   "mimetype": "text/x-python",
   "name": "python",
   "nbconvert_exporter": "python",
   "pygments_lexer": "ipython3",
   "version": "3.8.5"
  }
 },
 "nbformat": 4,
 "nbformat_minor": 4
}
