{
 "cells": [
  {
   "cell_type": "code",
   "execution_count": 3,
   "metadata": {},
   "outputs": [
    {
     "name": "stdout",
     "output_type": "stream",
     "text": [
      "18\n",
      "Not prime\n"
     ]
    }
   ],
   "source": [
    "## Prime or not excludng 1 and itself\n",
    "n=int(input())\n",
    "if n>1:\n",
    "    for i in range(2,n):\n",
    "        if n%i==0:\n",
    "            print(\"Not prime\")\n",
    "            break\n",
    "    else:\n",
    "        print(\"prime\")"
   ]
  },
  {
   "cell_type": "code",
   "execution_count": 9,
   "metadata": {},
   "outputs": [
    {
     "name": "stdout",
     "output_type": "stream",
     "text": [
      "3\n",
      "prime\n"
     ]
    }
   ],
   "source": [
    "## prime or not using factors\n",
    "n=int(input())\n",
    "f=0\n",
    "for i in range(1,n+1):\n",
    "    if n%i==0:\n",
    "        f+=1\n",
    "if f==2:\n",
    "    print(\"prime\")\n",
    "else:\n",
    "    print(\"Not prime\")"
   ]
  },
  {
   "cell_type": "code",
   "execution_count": 2,
   "metadata": {},
   "outputs": [
    {
     "name": "stdout",
     "output_type": "stream",
     "text": [
      "4\n",
      "not prime\n"
     ]
    }
   ],
   "source": [
    "## prime or not using while loop\n",
    "n=int(input())\n",
    "i=1\n",
    "f=0\n",
    "while i<=n:\n",
    "    if n%i==0:\n",
    "        f+=1\n",
    "    i+=1\n",
    "if f==2:\n",
    "    print(\"prime\")\n",
    "else:\n",
    "    print(\"not prime\")\n",
    "    "
   ]
  },
  {
   "cell_type": "code",
   "execution_count": 7,
   "metadata": {},
   "outputs": [
    {
     "name": "stdout",
     "output_type": "stream",
     "text": [
      "2\n",
      "3\n",
      "5\n",
      "7\n"
     ]
    }
   ],
   "source": [
    "i=1\n",
    "while i<=10:\n",
    "    fact=0\n",
    "    for j in range(1,11):\n",
    "        if i%j==0:\n",
    "            fact+=1\n",
    "    if fact==2:\n",
    "        print(i)\n",
    "    i+=1\n",
    "        "
   ]
  },
  {
   "cell_type": "code",
   "execution_count": 20,
   "metadata": {},
   "outputs": [
    {
     "name": "stdout",
     "output_type": "stream",
     "text": [
      "10\n"
     ]
    },
    {
     "data": {
      "text/plain": [
       "False"
      ]
     },
     "execution_count": 20,
     "metadata": {},
     "output_type": "execute_result"
    }
   ],
   "source": [
    "## Generation of prime between 50 to 100\n",
    "def isprime(n):\n",
    "    f=0\n",
    "    for i in range(1,n+1):\n",
    "        if n%i==0:\n",
    "            f+=1\n",
    "    if f==2:\n",
    "        return True\n",
    "    return False\n",
    "isprime(int(input()))"
   ]
  },
  {
   "cell_type": "code",
   "execution_count": 21,
   "metadata": {},
   "outputs": [
    {
     "name": "stdout",
     "output_type": "stream",
     "text": [
      "1\n",
      "100\n",
      "2 3 5 7 11 13 17 19 23 29 31 37 41 43 47 53 59 61 67 71 73 79 83 89 97 "
     ]
    }
   ],
   "source": [
    "def prime_ranges(lb,ub):\n",
    "    for i in range(lb,ub+1):\n",
    "        if isprime(i)==True:\n",
    "            print(i,end=\" \")\n",
    "prime_ranges(int(input()),int(input()))"
   ]
  },
  {
   "cell_type": "markdown",
   "metadata": {},
   "source": [
    "### Function parameters\n",
    "- signifies the input or data for the function\n",
    "- variables are 2 types\n",
    "    - Local variables (Inside function)\n",
    "    - Global variables (Outside the function)\n",
    "- syntax\n",
    "~~~\n",
    "    - def function(parameters):\n",
    "        statement1\n",
    "        statement2\n",
    "        .\n",
    "        .\n",
    "        .\n",
    "~~~ \n",
    "- parameters - name of variables\n",
    "- Arguments  - values of variables\n",
    "- We have 5 types of functional parameters\n",
    "1. Positional Arguments\n",
    "2. Keyword Arguments\n",
    "3. Default Arguments\n",
    "4. Variable length Arguments\n",
    "5. Keyword length Arguments\n"
   ]
  },
  {
   "cell_type": "markdown",
   "metadata": {},
   "source": [
    "#### Positional Arguments\n",
    "- can follows position or order"
   ]
  },
  {
   "cell_type": "code",
   "execution_count": 24,
   "metadata": {},
   "outputs": [
    {
     "name": "stdout",
     "output_type": "stream",
     "text": [
      "priya 23 97\n"
     ]
    }
   ],
   "source": [
    "def position(name,age,marks):\n",
    "    print(name,age,marks)\n",
    "position(\"priya\",23,97)"
   ]
  },
  {
   "cell_type": "markdown",
   "metadata": {},
   "source": [
    "#### Keyword Arguments\n",
    "- Follows key=values"
   ]
  },
  {
   "cell_type": "code",
   "execution_count": 25,
   "metadata": {},
   "outputs": [
    {
     "name": "stdout",
     "output_type": "stream",
     "text": [
      "priya 23 97\n"
     ]
    }
   ],
   "source": [
    "def keywordArg(name,age,marks):\n",
    "    print(name,age,marks)\n",
    "keywordArg(name=\"priya\",age=\"23\",marks=\"97\")"
   ]
  },
  {
   "cell_type": "markdown",
   "metadata": {},
   "source": [
    "#### Default Arguments\n",
    "- Having default arguments"
   ]
  },
  {
   "cell_type": "code",
   "execution_count": 33,
   "metadata": {},
   "outputs": [
    {
     "name": "stdout",
     "output_type": "stream",
     "text": [
      "priya 23 97\n"
     ]
    }
   ],
   "source": [
    "def DefaultArg(name,age,marks=97):\n",
    "    print(name,age,marks)\n",
    "DefaultArg(\"priya\",23)"
   ]
  },
  {
   "cell_type": "code",
   "execution_count": 34,
   "metadata": {},
   "outputs": [
    {
     "name": "stdout",
     "output_type": "stream",
     "text": [
      "priya 24 87\n"
     ]
    }
   ],
   "source": [
    "DefaultArg(\"priya\",24,87)"
   ]
  },
  {
   "cell_type": "markdown",
   "metadata": {},
   "source": [
    "#### Variable length Arguments\n",
    "- you can pass no of data(exactly not known by you)\n",
    "- unknown length of data"
   ]
  },
  {
   "cell_type": "code",
   "execution_count": 35,
   "metadata": {},
   "outputs": [
    {
     "name": "stdout",
     "output_type": "stream",
     "text": [
      "(1, 2, 3, 4, 5, 6, 7)\n"
     ]
    }
   ],
   "source": [
    "def variable_length(*x):\n",
    "    print(x)\n",
    "variable_length(1,2,3,4,5,6,7)"
   ]
  },
  {
   "cell_type": "markdown",
   "metadata": {},
   "source": [
    "#### Keyword length Arguments\n",
    "- an pass any number of keywords of any length\n",
    "- syntax\n",
    "    - **parameter\n",
    "- Return result in the format of Dictionary\n",
    "- syntax\n",
    "    - key:value"
   ]
  },
  {
   "cell_type": "code",
   "execution_count": 40,
   "metadata": {},
   "outputs": [
    {
     "name": "stdout",
     "output_type": "stream",
     "text": [
      "{'name': ['priya', 'vishnu'], 'age': 23, 'college': 'svuce'}\n"
     ]
    }
   ],
   "source": [
    "def keyword_length(**z):\n",
    "    print(z)\n",
    "keyword_length(name=[\"priya\",\"vishnu\"],age=23,college=\"svuce\")"
   ]
  },
  {
   "cell_type": "markdown",
   "metadata": {},
   "source": [
    "#### Function Recursion\n",
    "- Calling the function definition inside the function definition"
   ]
  },
  {
   "cell_type": "code",
   "execution_count": 46,
   "metadata": {},
   "outputs": [
    {
     "name": "stdout",
     "output_type": "stream",
     "text": [
      "3\n"
     ]
    },
    {
     "data": {
      "text/plain": [
       "6"
      ]
     },
     "execution_count": 46,
     "metadata": {},
     "output_type": "execute_result"
    }
   ],
   "source": [
    "def fun(a):\n",
    "    if a>0:\n",
    "        r=a+fun(a-1)\n",
    "    else:\n",
    "        r=0\n",
    "    return r\n",
    "fun(int(input()))"
   ]
  },
  {
   "cell_type": "markdown",
   "metadata": {},
   "source": [
    "    write a program to find out factorial of given number\n",
    "    write a program to count the factors of a given number\n",
    "    write a program to check the given number is perfect or not"
   ]
  },
  {
   "cell_type": "code",
   "execution_count": 68,
   "metadata": {},
   "outputs": [
    {
     "name": "stdout",
     "output_type": "stream",
     "text": [
      "6\n",
      "1 2 3 "
     ]
    }
   ],
   "source": [
    "#factors of given number\n",
    "def factors(x):\n",
    "    for i in range(1,x):\n",
    "        if x%i==0:\n",
    "            print(i,end=\" \")\n",
    "x=int(input())\n",
    "factors(x)"
   ]
  },
  {
   "cell_type": "code",
   "execution_count": 69,
   "metadata": {},
   "outputs": [
    {
     "name": "stdout",
     "output_type": "stream",
     "text": [
      "6\n",
      "1 2 3 \n",
      " The factors count is=  3\n"
     ]
    }
   ],
   "source": [
    "def factors_count(x):\n",
    "    count=0\n",
    "    for i in range(1,x):\n",
    "        if x%i==0:\n",
    "            count+=1\n",
    "            print(i,end=\" \")\n",
    "    return count\n",
    "x=int(input())\n",
    "print(\"\\n The factors count is= \",factors_count(x))"
   ]
  },
  {
   "cell_type": "code",
   "execution_count": 70,
   "metadata": {},
   "outputs": [
    {
     "name": "stdout",
     "output_type": "stream",
     "text": [
      "6\n",
      "6\n",
      "6 is perfect number\n"
     ]
    }
   ],
   "source": [
    "# Perfect number or not\n",
    "def factors_count(x):\n",
    "    sum=0\n",
    "    for i in range(1,x):\n",
    "        if x%i==0:\n",
    "            sum=sum+i\n",
    "    print(sum)\n",
    "    if sum==x:\n",
    "        print(x,\"is perfect number\")\n",
    "    else:\n",
    "        print(x,\"is not perfect\")\n",
    "a=int(input())\n",
    "factors_count(a)"
   ]
  },
  {
   "cell_type": "code",
   "execution_count": null,
   "metadata": {},
   "outputs": [],
   "source": []
  }
 ],
 "metadata": {
  "kernelspec": {
   "display_name": "Python 3",
   "language": "python",
   "name": "python3"
  },
  "language_info": {
   "codemirror_mode": {
    "name": "ipython",
    "version": 3
   },
   "file_extension": ".py",
   "mimetype": "text/x-python",
   "name": "python",
   "nbconvert_exporter": "python",
   "pygments_lexer": "ipython3",
   "version": "3.8.5"
  }
 },
 "nbformat": 4,
 "nbformat_minor": 4
}
