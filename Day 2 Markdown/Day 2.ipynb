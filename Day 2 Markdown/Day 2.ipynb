{
 "cells": [
  {
   "cell_type": "markdown",
   "metadata": {},
   "source": [
    "## Markdown Shortcuts\n",
    "### Bold\n",
    "**python coding**\n",
    "### Italic\n",
    "_python_\n",
    "*python*\n",
    "### Bold and Italic\n",
    "*_python coding_*"
   ]
  },
  {
   "cell_type": "markdown",
   "metadata": {},
   "source": [
    "## Shortcuts\n",
    "- Esc+M -to convert cell in to markdown\n",
    "- Esc+Y -to convert cell in to code\n",
    "- Shift+Enter -to run cell\n",
    "- Esc+L -to toggle the line number"
   ]
  },
  {
   "cell_type": "markdown",
   "metadata": {},
   "source": [
    "## inserting image\n",
    "![image](https://images-na.ssl-images-amazon.com/images/I/715vwvP5ZEL.png)\n",
    "<img src=\"https://images-na.ssl-images-amazon.com/images/I/715vwvP5ZEL.png\" width=\"100px\">"
   ]
  },
  {
   "cell_type": "markdown",
   "metadata": {},
   "source": [
    "[SVUCE](https://svuce.edu.in/)"
   ]
  },
  {
   "cell_type": "markdown",
   "metadata": {},
   "source": [
    "## Creating tables\n",
    "|name|age|marks|\n",
    "|----|---|-----|\n",
    "|madhu|25|85|\n",
    "|priya|22|97|"
   ]
  },
  {
   "cell_type": "markdown",
   "metadata": {},
   "source": [
    "## creating block quotes\n",
    "> N Krishna priya\n",
    ">> age:23\n",
    ">>> graduated"
   ]
  },
  {
   "cell_type": "markdown",
   "metadata": {},
   "source": [
    "## Inserting code\n",
    "```c\n",
    "#include<stdio.h>\n",
    "void main()\n",
    "{\n",
    "printf(\"Hello World\");\n",
    "}\n",
    "```"
   ]
  },
  {
   "cell_type": "code",
   "execution_count": null,
   "metadata": {},
   "outputs": [],
   "source": []
  }
 ],
 "metadata": {
  "kernelspec": {
   "display_name": "Python 3",
   "language": "python",
   "name": "python3"
  },
  "language_info": {
   "codemirror_mode": {
    "name": "ipython",
    "version": 3
   },
   "file_extension": ".py",
   "mimetype": "text/x-python",
   "name": "python",
   "nbconvert_exporter": "python",
   "pygments_lexer": "ipython3",
   "version": "3.8.5"
  }
 },
 "nbformat": 4,
 "nbformat_minor": 4
}
