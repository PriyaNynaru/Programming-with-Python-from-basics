{
 "cells": [
  {
   "cell_type": "markdown",
   "metadata": {},
   "source": [
    "### Day 16\n",
    "    Object oriented programming in python"
   ]
  },
  {
   "cell_type": "markdown",
   "metadata": {},
   "source": [
    "##### Introduction about Oops:\n",
    "    1. In 1960's Oops was initiated by alan kan\n",
    "    2. Intially a language called simula which is the first programming language with object oriented features.\n",
    "    3. 1990's it was available in market with the help of c++\n",
    "    4. After that it was adopted by many programming languages.\n",
    "###### Where we can use Oops mostly:\n",
    "    1. Real-time systems\n",
    "    2. Artificial Intelligence\n",
    "    3. Expert systems\n",
    "    4. Client-server systems\n",
    "    5. Object oriented Data bases and etc..,\n",
    "###### What is Object Oriented Programming?\n",
    "    1. It's a different method of structuring a software program by bundling the properties and behaviors into individual  objects\n",
    "                                               (or)\n",
    "    2. Its a programming paradigm that deals with classes and objects.\n",
    "                                               (or)\n",
    "    3. Its used to structure a software program into simple, reusable pieces of code.\n",
    "###### Examples of Oops:\n",
    "    1. Java\n",
    "    2. Javascript\n",
    "    3. C++\n",
    "    4. Python\n",
    "###### Why we choose Oops over pop(procedure oriented programming)      \n",
    "|Oops|pop|\n",
    "|----|---|\n",
    "|Oops is done by divides program into objects|pop is done by functions|\n",
    "|Python,C##,C++,Ruby|C,Pascal|\n",
    "\n",
    "##### Cocepts of Oops:\n",
    "    1. Class\n",
    "    2. Object\n",
    "    3. Method\n",
    "    4. Inheritance\n",
    "    5. Encapsulation\n",
    "    6. Polymorphism\n",
    "    7. Data Abstraction"
   ]
  },
  {
   "cell_type": "markdown",
   "metadata": {},
   "source": [
    "##### 1. Class\n",
    "    # A class is a collection of objects\n",
    "                   (or)\n",
    "    # A class is a blueprint of the object\n",
    "Note: It makes the code as more managable\n",
    "#### How to create classes?\n",
    "    #Syntax:\n",
    "    class class_name:\n",
    "        class body\n",
    "Example:\n",
    "\n",
    "    student- Object-class-cse-a\n",
    "    Properties- name,rollno,emailid,phone no\n",
    "    Behaviour- topper,talk-active,silent,backbencher"
   ]
  },
  {
   "cell_type": "code",
   "execution_count": 2,
   "metadata": {},
   "outputs": [],
   "source": [
    "#class define\n",
    "class car:\n",
    "    pass"
   ]
  },
  {
   "cell_type": "markdown",
   "metadata": {},
   "source": [
    "#### 2. Object and object Instantiation:\n",
    "###### What is object?\n",
    "    An object (instance) is an instatiation of a class\n",
    "Note: when the class is defined only the description or blueprint of a object is defined, Here there is no memory allocatio\n",
    "###### What is instantiation?\n",
    "    It's creating a new object/instance of a class\n",
    "##### How to create objects?\n",
    "###### Syntax:\n",
    "    variablename=classname()\n",
    "    obj=car()"
   ]
  },
  {
   "cell_type": "markdown",
   "metadata": {},
   "source": [
    "##### 3. Constructor in Oops:\n",
    "    Constructor in python is a special method which is used to initialize the members of class during run-time when an object is created\n",
    "    We define class constructor always as\n",
    "                __init__()\n",
    "Note: Every class must have a constructor,even if you don't create a constructor explicitly it will create a default constructor by itself\n"
   ]
  },
  {
   "cell_type": "code",
   "execution_count": 8,
   "metadata": {},
   "outputs": [
    {
     "name": "stdout",
     "output_type": "stream",
     "text": [
      "Sum of a and b is 30\n"
     ]
    }
   ],
   "source": [
    "class Myclass:\n",
    "    sum=0    ##class variable\n",
    "    def __init__(self,a,b):    ##instance method or constructor method\n",
    "        self.sum=a+b           ##self keyword is used to access members of class\n",
    "                               ##a,b-instance variables\n",
    "    def printsum(self):\n",
    "        print(\"Sum of a and b is\",self.sum)\n",
    "\n",
    "ob=Myclass(10,20)  ##creating an object\n",
    "ob.printsum()\n",
    "#Note: constructor will never return value"
   ]
  },
  {
   "cell_type": "markdown",
   "metadata": {},
   "source": [
    "##### 4. Inheritence:\n",
    "    Inheritance refers to\n",
    "        A class which inherits the properties of another class\n",
    "###### Properties\n",
    "    parent(class) -------------> Child(class)\n",
    "###### Types of Inheritance:\n",
    "    1. Single\n",
    "    2. Multilevel \n",
    "    3. Multiple"
   ]
  },
  {
   "cell_type": "code",
   "execution_count": 25,
   "metadata": {},
   "outputs": [
    {
     "name": "stdout",
     "output_type": "stream",
     "text": [
      "sum of a and b is 30\n",
      "subtraction of c and d is 40\n",
      "10 20 50 10\n"
     ]
    }
   ],
   "source": [
    "## Single level Inheritance:\n",
    "class arthimatic:        #parent class\n",
    "    a=10                 #parent class variables\n",
    "    b=20\n",
    "    def add(self):       #parent class method\n",
    "        sum=self.a+self.b\n",
    "        print(\"sum of a and b is\",sum)\n",
    "class addition(arthimatic):   #child class\n",
    "    c=50\n",
    "    d=10                      #child class variables and method\n",
    "    def sub(self):\n",
    "        sub=self.c-self.d\n",
    "        print(\"subtraction of c and d is\",sub)\n",
    "ob=addition()\n",
    "ob.add()\n",
    "ob.sub()\n",
    "print(ob.a,ob.b,ob.c,ob.d)\n"
   ]
  },
  {
   "cell_type": "markdown",
   "metadata": {},
   "source": [
    "##### Multi level Inhritance:\n",
    "    parent1class---->parent2(child1)---->child2class\n",
    "In Multilevel - one or more class will act as a parent or base class"
   ]
  },
  {
   "cell_type": "code",
   "execution_count": 26,
   "metadata": {},
   "outputs": [
    {
     "name": "stdout",
     "output_type": "stream",
     "text": [
      "sum of a and b is 30\n",
      "subtraction of a and b is 10\n",
      "multiplication of a and b is 200\n",
      "10 20\n"
     ]
    }
   ],
   "source": [
    "class addition:          \n",
    "    a=10\n",
    "    b=20\n",
    "    def add(self):\n",
    "        sum=self.a+self.b\n",
    "        print(\"sum of a and b is\",sum)\n",
    "class subtraction(addition):\n",
    "    def sub(self):\n",
    "        sub=self.b-self.a\n",
    "        print(\"subtraction of a and b is\",sub)\n",
    "class multiplication(subtraction):\n",
    "    def mul(self):\n",
    "        multi=self.a*self.b\n",
    "        print(\"multiplication of a and b is\",multi)\n",
    "ob=multiplication()\n",
    "ob.add()\n",
    "ob.sub()\n",
    "ob.mul()\n",
    "print(ob.a,ob.b)"
   ]
  },
  {
   "cell_type": "markdown",
   "metadata": {},
   "source": [
    "##### Multiple Inheritance\n",
    "    A class which inherits the properties of multiple parent classes is called multiple inheritance\n",
    " "
   ]
  },
  {
   "cell_type": "code",
   "execution_count": 24,
   "metadata": {},
   "outputs": [
    {
     "name": "stdout",
     "output_type": "stream",
     "text": [
      "multiplication of a and b is 500\n",
      "sum of a and b is 30\n",
      "substraction of a and b is 40\n",
      "10 20 50 10\n"
     ]
    }
   ],
   "source": [
    "class Addition:          \n",
    "    a=10\n",
    "    b=20\n",
    "    def add(self):\n",
    "        sum=self.a+self.b\n",
    "        print(\"sum of a and b is\",sum)\n",
    "class substraction():\n",
    "    c=50\n",
    "    d=10\n",
    "    def sub(self):\n",
    "        sub=self.c-self.d\n",
    "        print(\"substraction of a and b is\",sub)\n",
    "class multiplication(Addition,substraction):\n",
    "    def mul(self):\n",
    "        multi=self.a*self.c\n",
    "        print(\"multiplication of a and b is\",multi)\n",
    "ob=multiplication()\n",
    "ob.mul()\n",
    "ob.add()\n",
    "ob.sub()\n",
    "print(ob.a,ob.b,ob.c,ob.d)"
   ]
  },
  {
   "cell_type": "markdown",
   "metadata": {},
   "source": [
    "##### Encapsulation:\n",
    "    Its a way to ensure security, simply it hides data from being accessed by outsiders.\n",
    "    for making encapsulation\n",
    "        we can declare the methods or the attributes as \"protected\" by using a single underscore(_) before their names.\n",
    "    such as\n",
    "        self._name or\n",
    "        def _methodname()\n",
    "Note: By using some tricks there may chance of accessing the attributes and methods of data (protected)\n",
    "    \n",
    "    for preventing the access of attributes/methods from outsiders the scope of a class.\n",
    "    We can make them \"private\""
   ]
  },
  {
   "cell_type": "code",
   "execution_count": 33,
   "metadata": {},
   "outputs": [
    {
     "name": "stdout",
     "output_type": "stream",
     "text": [
      "BMW 11-series 60\n",
      "None\n",
      "BMW 11-series\n",
      "60\n"
     ]
    }
   ],
   "source": [
    "class car:\n",
    "    def __init__(self,name,mileage):\n",
    "        self._name=name\n",
    "        self.mileage=mileage\n",
    "    def description(self):\n",
    "        print(self._name,self.mileage)\n",
    "\n",
    "ob=car(\"BMW 11-series\",60)\n",
    "print(ob.description())\n",
    "print(ob._name)\n",
    "print(ob.mileage)"
   ]
  },
  {
   "cell_type": "code",
   "execution_count": 42,
   "metadata": {},
   "outputs": [
    {
     "name": "stdout",
     "output_type": "stream",
     "text": [
      "BMW 11-series 60\n",
      "None\n",
      "60\n"
     ]
    },
    {
     "ename": "AttributeError",
     "evalue": "'car' object has no attribute '__name'",
     "output_type": "error",
     "traceback": [
      "\u001b[1;31m---------------------------------------------------------------------------\u001b[0m",
      "\u001b[1;31mAttributeError\u001b[0m                            Traceback (most recent call last)",
      "\u001b[1;32m<ipython-input-42-a2559bf738cf>\u001b[0m in \u001b[0;36m<module>\u001b[1;34m\u001b[0m\n\u001b[0;32m      9\u001b[0m \u001b[0mprint\u001b[0m\u001b[1;33m(\u001b[0m\u001b[0mob\u001b[0m\u001b[1;33m.\u001b[0m\u001b[0mdescription\u001b[0m\u001b[1;33m(\u001b[0m\u001b[1;33m)\u001b[0m\u001b[1;33m)\u001b[0m\u001b[1;33m\u001b[0m\u001b[1;33m\u001b[0m\u001b[0m\n\u001b[0;32m     10\u001b[0m \u001b[0mprint\u001b[0m\u001b[1;33m(\u001b[0m\u001b[0mob\u001b[0m\u001b[1;33m.\u001b[0m\u001b[0mmileage\u001b[0m\u001b[1;33m)\u001b[0m\u001b[1;33m\u001b[0m\u001b[1;33m\u001b[0m\u001b[0m\n\u001b[1;32m---> 11\u001b[1;33m \u001b[0mprint\u001b[0m\u001b[1;33m(\u001b[0m\u001b[0mob\u001b[0m\u001b[1;33m.\u001b[0m\u001b[0m__name\u001b[0m\u001b[1;33m)\u001b[0m\u001b[1;33m\u001b[0m\u001b[1;33m\u001b[0m\u001b[0m\n\u001b[0m",
      "\u001b[1;31mAttributeError\u001b[0m: 'car' object has no attribute '__name'"
     ]
    }
   ],
   "source": [
    "#make class variables as private:\n",
    "class car:\n",
    "    def __init__(self,name,mileage):\n",
    "        self.__name=name    #protected variable\n",
    "        self.mileage=mileage\n",
    "    def description(self):\n",
    "        print(self.__name,self.mileage)\n",
    "ob=car(\"BMW 11-series\",60)\n",
    "print(ob.description())\n",
    "print(ob.mileage)\n",
    "print(ob.__name)"
   ]
  },
  {
   "cell_type": "code",
   "execution_count": null,
   "metadata": {},
   "outputs": [],
   "source": []
  }
 ],
 "metadata": {
  "kernelspec": {
   "display_name": "Python 3",
   "language": "python",
   "name": "python3"
  },
  "language_info": {
   "codemirror_mode": {
    "name": "ipython",
    "version": 3
   },
   "file_extension": ".py",
   "mimetype": "text/x-python",
   "name": "python",
   "nbconvert_exporter": "python",
   "pygments_lexer": "ipython3",
   "version": "3.8.5"
  }
 },
 "nbformat": 4,
 "nbformat_minor": 4
}
