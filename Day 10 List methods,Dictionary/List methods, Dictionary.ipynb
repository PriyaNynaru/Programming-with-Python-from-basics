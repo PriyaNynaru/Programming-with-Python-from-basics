{
 "cells": [
  {
   "cell_type": "markdown",
   "metadata": {},
   "source": [
    "### Day 10\n",
    "- List(contd...)\n",
    "- Dictionary"
   ]
  },
  {
   "cell_type": "code",
   "execution_count": 16,
   "metadata": {},
   "outputs": [
    {
     "name": "stdout",
     "output_type": "stream",
     "text": [
      "96\n",
      "96\n",
      "[7, 0, 58, 1, 96, 58, 45]\n",
      "[96, 1, 58]\n",
      "[96, 1, 58]\n",
      "[58, 1, 0]\n"
     ]
    }
   ],
   "source": [
    "## accessing the elements in list\n",
    "#index\n",
    "l=[45,58,96,1,58,0,7]\n",
    "print(l[2]) #positive indexing\n",
    "print(l[-5]) #negative indexing\n",
    "print(l[::-1]) #reversing\n",
    "print(l[2:5])\n",
    "print(l[-5:-2])\n",
    "print(l[1:6:2])"
   ]
  },
  {
   "cell_type": "code",
   "execution_count": 22,
   "metadata": {},
   "outputs": [
    {
     "name": "stdout",
     "output_type": "stream",
     "text": [
      "[1, 5, 8, 9, 6, 4, 5, 9]\n",
      "['python', 'workshop']\n"
     ]
    }
   ],
   "source": [
    "#list concatination\n",
    "l1=[1,5,8,9,6,4]\n",
    "l2=[5,9]\n",
    "print(l1+l2)\n",
    "l3=['python']\n",
    "l4=['workshop']\n",
    "print(l3+l4)"
   ]
  },
  {
   "cell_type": "code",
   "execution_count": 27,
   "metadata": {},
   "outputs": [
    {
     "name": "stdout",
     "output_type": "stream",
     "text": [
      "[23, 45, 67, [16, 89, 56, 90], 30] <class 'list'>\n",
      "67\n",
      "[16, 89, 56, 90]\n",
      "56\n"
     ]
    }
   ],
   "source": [
    "#nested list:\n",
    "li=[23,45,67,[16,89,56,90],30]\n",
    "print(li,type(li))\n",
    "print(li[2])\n",
    "print(li[3])\n",
    "print(li[3][2])"
   ]
  },
  {
   "cell_type": "code",
   "execution_count": 33,
   "metadata": {},
   "outputs": [
    {
     "name": "stdout",
     "output_type": "stream",
     "text": [
      "12345324\n",
      "['1', '2', '3', '4', '5', 9, '2', '4']\n",
      "[23, 45, 67, [16, 89, 56, 89], 30]\n"
     ]
    }
   ],
   "source": [
    "#list is mutable\n",
    "li=list(input())\n",
    "li[5]=9\n",
    "print(li)\n",
    "li=[23,45,67,[16,89,56,90],30]\n",
    "li[3][3]=89\n",
    "print(li)"
   ]
  },
  {
   "cell_type": "markdown",
   "metadata": {},
   "source": [
    "- built in functions like max,min can't be used for nested list"
   ]
  },
  {
   "cell_type": "code",
   "execution_count": 34,
   "metadata": {},
   "outputs": [
    {
     "name": "stdout",
     "output_type": "stream",
     "text": [
      "['__add__', '__class__', '__contains__', '__delattr__', '__delitem__', '__dir__', '__doc__', '__eq__', '__format__', '__ge__', '__getattribute__', '__getitem__', '__gt__', '__hash__', '__iadd__', '__imul__', '__init__', '__init_subclass__', '__iter__', '__le__', '__len__', '__lt__', '__mul__', '__ne__', '__new__', '__reduce__', '__reduce_ex__', '__repr__', '__reversed__', '__rmul__', '__setattr__', '__setitem__', '__sizeof__', '__str__', '__subclasshook__', 'append', 'clear', 'copy', 'count', 'extend', 'index', 'insert', 'pop', 'remove', 'reverse', 'sort'] "
     ]
    }
   ],
   "source": [
    "print(dir(list),end=\" \")"
   ]
  },
  {
   "cell_type": "markdown",
   "metadata": {},
   "source": [
    "#### list.append()\n",
    "1. The append() method appends an element to the end of the list.\n",
    "2. syntax: list.append(elmnt)\n",
    "3. elmnt -> Required. An element of any type (string, number, object etc.)"
   ]
  },
  {
   "cell_type": "code",
   "execution_count": 40,
   "metadata": {},
   "outputs": [
    {
     "name": "stdout",
     "output_type": "stream",
     "text": [
      "[12, 11, 10, 34, 67, 2, 88, 16]\n"
     ]
    }
   ],
   "source": [
    "li=[12,11,10,34,67,2,88]\n",
    "li.append(16)\n",
    "print(li)"
   ]
  },
  {
   "cell_type": "markdown",
   "metadata": {},
   "source": [
    "#### list.insert()\n",
    "1. The insert() method inserts the specified value at the specified position.\n",
    "2. syntax: list.insert(pos, elmnt)\n",
    "3. pos\t-> Required. A number specifying in which position to insert the value\n",
    "4. elmnt -> Required. An element of any type (string, number, object etc.)\n",
    "5. not applicable for nested list"
   ]
  },
  {
   "cell_type": "code",
   "execution_count": 41,
   "metadata": {},
   "outputs": [
    {
     "name": "stdout",
     "output_type": "stream",
     "text": [
      "[12, 11, 16, 10, 34, 67, 2, 88, 16]\n"
     ]
    }
   ],
   "source": [
    "li.insert(2,16)\n",
    "print(li)"
   ]
  },
  {
   "cell_type": "markdown",
   "metadata": {},
   "source": [
    "#### list.count()\n",
    "1. The count() method returns the number of elements with the specified value.\n",
    "2. syntax: list.count(value)\n",
    "3. value\t-> Required. Any type (string, number, list, tuple, etc.). The value to search for"
   ]
  },
  {
   "cell_type": "code",
   "execution_count": 42,
   "metadata": {},
   "outputs": [
    {
     "name": "stdout",
     "output_type": "stream",
     "text": [
      "3\n"
     ]
    }
   ],
   "source": [
    "li=[12,11,10,34,67,2,88,88,88]\n",
    "print(li.count(88))"
   ]
  },
  {
   "cell_type": "markdown",
   "metadata": {},
   "source": [
    "#### list.index\n",
    "1. The index() method returns the position at the first occurrence of the specified value.\n",
    "2. syntax: list.index(elmnt)"
   ]
  },
  {
   "cell_type": "code",
   "execution_count": 44,
   "metadata": {},
   "outputs": [
    {
     "name": "stdout",
     "output_type": "stream",
     "text": [
      "6\n"
     ]
    }
   ],
   "source": [
    "li=[12,11,10,34,67,2,88,88,88]\n",
    "print(li.index(88))"
   ]
  },
  {
   "cell_type": "markdown",
   "metadata": {},
   "source": [
    "#### list.remove()\n",
    "1. The remove() method removes the first occurrence of the element with the specified value.\n",
    "2. list.remove(elmnt)"
   ]
  },
  {
   "cell_type": "code",
   "execution_count": 45,
   "metadata": {},
   "outputs": [
    {
     "name": "stdout",
     "output_type": "stream",
     "text": [
      "[12, 11, 10, 34, 2, 88, 88, 88]\n"
     ]
    }
   ],
   "source": [
    "li=[12,11,10,34,67,2,88,88,88]\n",
    "li.remove(67)\n",
    "print(li)"
   ]
  },
  {
   "cell_type": "markdown",
   "metadata": {},
   "source": [
    "#### list.pop()\n",
    "1. The pop() method removes the element at the specified position.\n",
    "2. syntax: list.pop(pos)\n",
    "3. pos -> Optional. A number specifying the position of the element you want to remove, default value is -1, which returns the last item"
   ]
  },
  {
   "cell_type": "code",
   "execution_count": 49,
   "metadata": {},
   "outputs": [
    {
     "name": "stdout",
     "output_type": "stream",
     "text": [
      "[12, 11, 10, 34, 67, 2, 88, 10]\n",
      "[12, 11, 10, 34, 67, 2, 88]\n"
     ]
    }
   ],
   "source": [
    "li=[12,11,10,34,67,2,88,10,88]\n",
    "li.pop()\n",
    "print(li)\n",
    "li.pop(7)\n",
    "print(li)"
   ]
  },
  {
   "cell_type": "markdown",
   "metadata": {},
   "source": [
    "#### list.reverse()\n",
    "1. The reverse() method reverses the sorting order of the elements.\n",
    "2. syntax: list.reverse()\n",
    "3. No parameters"
   ]
  },
  {
   "cell_type": "code",
   "execution_count": 54,
   "metadata": {},
   "outputs": [
    {
     "name": "stdout",
     "output_type": "stream",
     "text": [
      "[88, 10, 88, 2, 67, 34, 10, 11, 12]\n"
     ]
    }
   ],
   "source": [
    "li=[12,11,10,34,67,2,88,10,88]\n",
    "li.reverse()\n",
    "print(li)"
   ]
  },
  {
   "cell_type": "markdown",
   "metadata": {},
   "source": [
    "#### list.sort()\n",
    "1. The sort() method sorts the list ascending by default.\n",
    "2. syntax: list.sort(reverse=True|False, key=myFunc)\n",
    "3. reverse\t-> Optional. reverse=True will sort the list descending. Default is reverse=False\n",
    "4. key\t-> Optional. A function to specify the sorting criteria(s)"
   ]
  },
  {
   "cell_type": "code",
   "execution_count": 56,
   "metadata": {},
   "outputs": [
    {
     "name": "stdout",
     "output_type": "stream",
     "text": [
      "[2, 10, 10, 11, 12, 34, 67, 88, 88]\n",
      "[88, 88, 67, 34, 12, 11, 10, 10, 2]\n"
     ]
    }
   ],
   "source": [
    "li=[12,11,10,34,67,2,88,10,88]\n",
    "li.sort()\n",
    "print(li)\n",
    "li.sort(reverse=True)\n",
    "print(li)"
   ]
  },
  {
   "cell_type": "markdown",
   "metadata": {},
   "source": [
    "#### li.extend()\n",
    "1. The extend() method adds the specified list elements (or any iterable) to the end of the current list.\n",
    "2. syntax: The extend() method adds the specified list elements (or any iterable) to the end of the current list.\n",
    "3. iterable\t-> Required. Any iterable (list, set, tuple, etc.)\n"
   ]
  },
  {
   "cell_type": "code",
   "execution_count": 57,
   "metadata": {},
   "outputs": [
    {
     "name": "stdout",
     "output_type": "stream",
     "text": [
      "[23, 12, 7, 45, 67, 2]\n",
      "[45, 67, 2]\n"
     ]
    }
   ],
   "source": [
    "l1=[23,12,7]\n",
    "l2=[45,67,2]\n",
    "l1.extend(l2)\n",
    "print(l1)\n",
    "print(l2)"
   ]
  },
  {
   "cell_type": "code",
   "execution_count": 58,
   "metadata": {},
   "outputs": [
    {
     "name": "stdout",
     "output_type": "stream",
     "text": [
      "[23, 12, 7, 45, 67, 2]\n",
      "[45, 67, 2, 23, 12, 7, 45, 67, 2]\n"
     ]
    }
   ],
   "source": [
    "l2.extend(l1)\n",
    "print(l1)\n",
    "print(l2)"
   ]
  },
  {
   "cell_type": "code",
   "execution_count": 59,
   "metadata": {},
   "outputs": [
    {
     "name": "stdout",
     "output_type": "stream",
     "text": [
      "[7, 45, 34, 2]\n",
      "[7, 45, 34, 2]\n",
      "[7, 45, 34, 2, 90]\n",
      "[7, 45, 34, 2, 90]\n"
     ]
    }
   ],
   "source": [
    "#assignment\n",
    "t=[7,45,34,2]\n",
    "t1=t\n",
    "print(t)\n",
    "print(t1)\n",
    "t.append(90)\n",
    "print(t)\n",
    "print(t1)\n"
   ]
  },
  {
   "cell_type": "markdown",
   "metadata": {},
   "source": [
    "#### list.copy()"
   ]
  },
  {
   "cell_type": "code",
   "execution_count": 61,
   "metadata": {},
   "outputs": [
    {
     "name": "stdout",
     "output_type": "stream",
     "text": [
      "[7, 45, 34, 2]\n",
      "[7, 45, 34, 2]\n",
      "[7, 45, 34, 2, 90]\n",
      "[7, 45, 34, 2]\n"
     ]
    }
   ],
   "source": [
    "t=[7,45,34,2]\n",
    "t1=t.copy()\n",
    "print(t)\n",
    "print(t1)\n",
    "t.append(90)\n",
    "print(t)\n",
    "print(t1)"
   ]
  },
  {
   "cell_type": "markdown",
   "metadata": {},
   "source": [
    "#### list.clear()\n",
    "1. The clear() method removes all the elements from a list.\n",
    "2. list.clear()\n",
    "3. No parameters"
   ]
  },
  {
   "cell_type": "code",
   "execution_count": 62,
   "metadata": {},
   "outputs": [
    {
     "name": "stdout",
     "output_type": "stream",
     "text": [
      "[]\n"
     ]
    }
   ],
   "source": [
    "t=[7,45,33,22]\n",
    "t.clear()\n",
    "print(t)"
   ]
  },
  {
   "cell_type": "markdown",
   "metadata": {},
   "source": [
    "#### del()\n",
    "1. The del keyword is used to delete objects. In Python everything is an object, so the del keyword can also be used to delete variables, lists, or parts of a list etc."
   ]
  },
  {
   "cell_type": "code",
   "execution_count": 64,
   "metadata": {},
   "outputs": [
    {
     "ename": "NameError",
     "evalue": "name 't' is not defined",
     "output_type": "error",
     "traceback": [
      "\u001b[1;31m---------------------------------------------------------------------------\u001b[0m",
      "\u001b[1;31mNameError\u001b[0m                                 Traceback (most recent call last)",
      "\u001b[1;32m<ipython-input-64-0f737466b1df>\u001b[0m in \u001b[0;36m<module>\u001b[1;34m\u001b[0m\n\u001b[0;32m      1\u001b[0m \u001b[0mt\u001b[0m\u001b[1;33m=\u001b[0m\u001b[1;33m[\u001b[0m\u001b[1;36m7\u001b[0m\u001b[1;33m,\u001b[0m\u001b[1;36m45\u001b[0m\u001b[1;33m,\u001b[0m\u001b[1;36m33\u001b[0m\u001b[1;33m,\u001b[0m\u001b[1;36m22\u001b[0m\u001b[1;33m]\u001b[0m\u001b[1;33m\u001b[0m\u001b[1;33m\u001b[0m\u001b[0m\n\u001b[0;32m      2\u001b[0m \u001b[1;32mdel\u001b[0m\u001b[1;33m(\u001b[0m\u001b[0mt\u001b[0m\u001b[1;33m)\u001b[0m\u001b[1;33m\u001b[0m\u001b[1;33m\u001b[0m\u001b[0m\n\u001b[1;32m----> 3\u001b[1;33m \u001b[0mprint\u001b[0m\u001b[1;33m(\u001b[0m\u001b[0mt\u001b[0m\u001b[1;33m)\u001b[0m\u001b[1;33m\u001b[0m\u001b[1;33m\u001b[0m\u001b[0m\n\u001b[0m",
      "\u001b[1;31mNameError\u001b[0m: name 't' is not defined"
     ]
    }
   ],
   "source": [
    "t=[7,45,33,22]\n",
    "del(t)\n",
    "print(t)"
   ]
  },
  {
   "cell_type": "markdown",
   "metadata": {},
   "source": [
    "#### Tasks\n",
    "\n",
    "    l=[1,5,10,20,50]        --> [1,25,100,400,2500]   #power up\n",
    "    l=[1,5,10,20,50]        --> calculate average\n",
    "    l=[12,13,14,6,78,12,13] --> print unique elements\n",
    "    l=[12,13,14,6,78,12,13] --> remove duplicates"
   ]
  },
  {
   "cell_type": "code",
   "execution_count": 9,
   "metadata": {},
   "outputs": [
    {
     "name": "stdout",
     "output_type": "stream",
     "text": [
      "[1, 16, 36, 81]\n"
     ]
    }
   ],
   "source": [
    "# 1\n",
    "l=[1,4,6,9]\n",
    "li=[]\n",
    "for i in l:\n",
    "    li.append(i**2)\n",
    "print(li)"
   ]
  },
  {
   "cell_type": "code",
   "execution_count": 12,
   "metadata": {},
   "outputs": [
    {
     "name": "stdout",
     "output_type": "stream",
     "text": [
      "Average:  3.0\n"
     ]
    }
   ],
   "source": [
    "# 2\n",
    "l=[1,2,3,4,5]\n",
    "print(\"Average: \",sum(l)/len(l))"
   ]
  },
  {
   "cell_type": "code",
   "execution_count": 21,
   "metadata": {},
   "outputs": [
    {
     "name": "stdout",
     "output_type": "stream",
     "text": [
      "7 14 21 28\n",
      "Average:  17.5\n"
     ]
    }
   ],
   "source": [
    "## for dynamic input we use map\n",
    "# synatx: map(datatype,input().split())\n",
    "l=list(map(int,input().split()))\n",
    "print(\"Average: \",sum(l)/len(l))"
   ]
  },
  {
   "cell_type": "code",
   "execution_count": 26,
   "metadata": {},
   "outputs": [
    {
     "name": "stdout",
     "output_type": "stream",
     "text": [
      "1 1 2 2 3 4 3 4\n",
      "[]\n"
     ]
    }
   ],
   "source": [
    "# 3\n",
    "l=list(map(int,input().split()))\n",
    "li=[]\n",
    "for i in l:\n",
    "    if l.count(i)==1:\n",
    "        li.append(i)\n",
    "print(li)"
   ]
  },
  {
   "cell_type": "code",
   "execution_count": 27,
   "metadata": {},
   "outputs": [
    {
     "name": "stdout",
     "output_type": "stream",
     "text": [
      "1 1 2 2 3 3 4 4\n",
      "[1, 2, 3, 4]\n"
     ]
    }
   ],
   "source": [
    "# 4\n",
    "l=list(map(int,input().split()))\n",
    "li=[]\n",
    "for i in l:\n",
    "    if i not in li:\n",
    "        li.append(i)\n",
    "print(li)"
   ]
  }
 ],
 "metadata": {
  "kernelspec": {
   "display_name": "Python 3",
   "language": "python",
   "name": "python3"
  },
  "language_info": {
   "codemirror_mode": {
    "name": "ipython",
    "version": 3
   },
   "file_extension": ".py",
   "mimetype": "text/x-python",
   "name": "python",
   "nbconvert_exporter": "python",
   "pygments_lexer": "ipython3",
   "version": "3.8.5"
  }
 },
 "nbformat": 4,
 "nbformat_minor": 4
}
